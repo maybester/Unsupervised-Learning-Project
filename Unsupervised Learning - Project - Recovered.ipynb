{
 "cells": [
  {
   "attachments": {},
   "cell_type": "markdown",
   "id": "9f566e09",
   "metadata": {},
   "source": [
    "# Supervised Learning - Project"
   ]
  },
  {
   "attachments": {},
   "cell_type": "markdown",
   "id": "dad75ccd",
   "metadata": {},
   "source": [
    "In this Project, we are going to perform a full unsupervised learning machine learning project on a \"Wholesale Data\" dataset. The dataset refers to clients of a wholesale distributor. It includes the annual spending in monetary units (m.u.) on diverse product categories\n",
    "\n",
    "[Kaggle Link](https://www.kaggle.com/datasets/binovi/wholesale-customers-data-set)"
   ]
  },
  {
   "attachments": {},
   "cell_type": "markdown",
   "id": "c5e57f31",
   "metadata": {},
   "source": [
    "# Part I : EDA - Exploratory Data Analysis & Pre-processing"
   ]
  },
  {
   "attachments": {},
   "cell_type": "markdown",
   "id": "53c827a5",
   "metadata": {},
   "source": [
    "The given dataset seems to be a grocery sales dataset containing information about various products sold by a grocery store. To perform an exploratory data analysis (EDA) on this dataset, we can perform the following tasks:\n",
    "\n",
    "- Data Import: Import the dataset into a statistical software tool such as Python or R.\n",
    "- Data Cleaning: Check the dataset for any missing or incorrect data and clean the dataset accordingly. This may involve removing or imputing missing data or correcting any obvious errors.\n",
    "Data Description: Generate summary statistics such as mean, median, and standard deviation for each column of the dataset. This will help in understanding the distribution of data in each column.\n",
    "- Data Visualization: Create various visualizations such as histograms, box plots, scatter plots, and heatmaps to understand the relationships and trends between the different variables in the dataset. For example, we can create a scatter plot between the \"Fresh\" and \"Milk\" variables to see if there is any correlation between them.\n",
    "- Outlier Detection: Check for any outliers in the dataset and determine whether they are valid or erroneous data points.\n",
    "- Correlation Analysis: Calculate the correlation between different variables in the dataset to determine which variables are highly correlated and which ones are not. For example, we can calculate the correlation between \"Grocery\" and \"Detergents_Paper\" to see if there is any relationship between these two variables.\n",
    "- Data Transformation: If necessary, transform the data by standardizing or normalizing the variables to make them comparable across different scales.\n",
    "- Feature Selection: Identify the most important features or variables that contribute the most to the overall variance in the dataset. This can be done using various feature selection techniques such as principal component analysis (PCA) or random forest regression."
   ]
  },
  {
   "cell_type": "code",
   "execution_count": 2,
   "id": "5bfb7c9a",
   "metadata": {},
   "outputs": [
    {
     "data": {
      "text/html": [
       "<div>\n",
       "<style scoped>\n",
       "    .dataframe tbody tr th:only-of-type {\n",
       "        vertical-align: middle;\n",
       "    }\n",
       "\n",
       "    .dataframe tbody tr th {\n",
       "        vertical-align: top;\n",
       "    }\n",
       "\n",
       "    .dataframe thead th {\n",
       "        text-align: right;\n",
       "    }\n",
       "</style>\n",
       "<table border=\"1\" class=\"dataframe\">\n",
       "  <thead>\n",
       "    <tr style=\"text-align: right;\">\n",
       "      <th></th>\n",
       "      <th>Channel</th>\n",
       "      <th>Region</th>\n",
       "      <th>Fresh</th>\n",
       "      <th>Milk</th>\n",
       "      <th>Grocery</th>\n",
       "      <th>Frozen</th>\n",
       "      <th>Detergents_Paper</th>\n",
       "      <th>Delicassen</th>\n",
       "    </tr>\n",
       "  </thead>\n",
       "  <tbody>\n",
       "    <tr>\n",
       "      <th>0</th>\n",
       "      <td>2</td>\n",
       "      <td>3</td>\n",
       "      <td>12669</td>\n",
       "      <td>9656</td>\n",
       "      <td>7561</td>\n",
       "      <td>214</td>\n",
       "      <td>2674</td>\n",
       "      <td>1338</td>\n",
       "    </tr>\n",
       "    <tr>\n",
       "      <th>1</th>\n",
       "      <td>2</td>\n",
       "      <td>3</td>\n",
       "      <td>7057</td>\n",
       "      <td>9810</td>\n",
       "      <td>9568</td>\n",
       "      <td>1762</td>\n",
       "      <td>3293</td>\n",
       "      <td>1776</td>\n",
       "    </tr>\n",
       "    <tr>\n",
       "      <th>2</th>\n",
       "      <td>2</td>\n",
       "      <td>3</td>\n",
       "      <td>6353</td>\n",
       "      <td>8808</td>\n",
       "      <td>7684</td>\n",
       "      <td>2405</td>\n",
       "      <td>3516</td>\n",
       "      <td>7844</td>\n",
       "    </tr>\n",
       "    <tr>\n",
       "      <th>3</th>\n",
       "      <td>1</td>\n",
       "      <td>3</td>\n",
       "      <td>13265</td>\n",
       "      <td>1196</td>\n",
       "      <td>4221</td>\n",
       "      <td>6404</td>\n",
       "      <td>507</td>\n",
       "      <td>1788</td>\n",
       "    </tr>\n",
       "    <tr>\n",
       "      <th>4</th>\n",
       "      <td>2</td>\n",
       "      <td>3</td>\n",
       "      <td>22615</td>\n",
       "      <td>5410</td>\n",
       "      <td>7198</td>\n",
       "      <td>3915</td>\n",
       "      <td>1777</td>\n",
       "      <td>5185</td>\n",
       "    </tr>\n",
       "  </tbody>\n",
       "</table>\n",
       "</div>"
      ],
      "text/plain": [
       "   Channel  Region  Fresh  Milk  Grocery  Frozen  Detergents_Paper  Delicassen\n",
       "0        2       3  12669  9656     7561     214              2674        1338\n",
       "1        2       3   7057  9810     9568    1762              3293        1776\n",
       "2        2       3   6353  8808     7684    2405              3516        7844\n",
       "3        1       3  13265  1196     4221    6404               507        1788\n",
       "4        2       3  22615  5410     7198    3915              1777        5185"
      ]
     },
     "execution_count": 2,
     "metadata": {},
     "output_type": "execute_result"
    }
   ],
   "source": [
    "import pandas as pd\n",
    "import numpy as np\n",
    "from sklearn.model_selection import train_test_split\n",
    "from sklearn.svm import SVC\n",
    "from sklearn.metrics import confusion_matrix\n",
    "whole = pd.read_csv('Wholesale_Data.csv')\n",
    "whole.head()\n"
   ]
  },
  {
   "cell_type": "code",
   "execution_count": 3,
   "id": "e679ca94",
   "metadata": {},
   "outputs": [
    {
     "data": {
      "text/html": [
       "<div>\n",
       "<style scoped>\n",
       "    .dataframe tbody tr th:only-of-type {\n",
       "        vertical-align: middle;\n",
       "    }\n",
       "\n",
       "    .dataframe tbody tr th {\n",
       "        vertical-align: top;\n",
       "    }\n",
       "\n",
       "    .dataframe thead th {\n",
       "        text-align: right;\n",
       "    }\n",
       "</style>\n",
       "<table border=\"1\" class=\"dataframe\">\n",
       "  <thead>\n",
       "    <tr style=\"text-align: right;\">\n",
       "      <th></th>\n",
       "      <th>Channel</th>\n",
       "      <th>Region</th>\n",
       "      <th>Fresh</th>\n",
       "      <th>Milk</th>\n",
       "      <th>Grocery</th>\n",
       "      <th>Frozen</th>\n",
       "      <th>Detergents_Paper</th>\n",
       "      <th>Delicassen</th>\n",
       "    </tr>\n",
       "  </thead>\n",
       "  <tbody>\n",
       "    <tr>\n",
       "      <th>count</th>\n",
       "      <td>440.000000</td>\n",
       "      <td>440.000000</td>\n",
       "      <td>440.000000</td>\n",
       "      <td>440.000000</td>\n",
       "      <td>440.000000</td>\n",
       "      <td>440.000000</td>\n",
       "      <td>440.000000</td>\n",
       "      <td>440.000000</td>\n",
       "    </tr>\n",
       "    <tr>\n",
       "      <th>mean</th>\n",
       "      <td>1.322727</td>\n",
       "      <td>2.543182</td>\n",
       "      <td>12000.297727</td>\n",
       "      <td>5796.265909</td>\n",
       "      <td>7951.277273</td>\n",
       "      <td>3071.931818</td>\n",
       "      <td>2881.493182</td>\n",
       "      <td>1524.870455</td>\n",
       "    </tr>\n",
       "    <tr>\n",
       "      <th>std</th>\n",
       "      <td>0.468052</td>\n",
       "      <td>0.774272</td>\n",
       "      <td>12647.328865</td>\n",
       "      <td>7380.377175</td>\n",
       "      <td>9503.162829</td>\n",
       "      <td>4854.673333</td>\n",
       "      <td>4767.854448</td>\n",
       "      <td>2820.105937</td>\n",
       "    </tr>\n",
       "    <tr>\n",
       "      <th>min</th>\n",
       "      <td>1.000000</td>\n",
       "      <td>1.000000</td>\n",
       "      <td>3.000000</td>\n",
       "      <td>55.000000</td>\n",
       "      <td>3.000000</td>\n",
       "      <td>25.000000</td>\n",
       "      <td>3.000000</td>\n",
       "      <td>3.000000</td>\n",
       "    </tr>\n",
       "    <tr>\n",
       "      <th>25%</th>\n",
       "      <td>1.000000</td>\n",
       "      <td>2.000000</td>\n",
       "      <td>3127.750000</td>\n",
       "      <td>1533.000000</td>\n",
       "      <td>2153.000000</td>\n",
       "      <td>742.250000</td>\n",
       "      <td>256.750000</td>\n",
       "      <td>408.250000</td>\n",
       "    </tr>\n",
       "    <tr>\n",
       "      <th>50%</th>\n",
       "      <td>1.000000</td>\n",
       "      <td>3.000000</td>\n",
       "      <td>8504.000000</td>\n",
       "      <td>3627.000000</td>\n",
       "      <td>4755.500000</td>\n",
       "      <td>1526.000000</td>\n",
       "      <td>816.500000</td>\n",
       "      <td>965.500000</td>\n",
       "    </tr>\n",
       "    <tr>\n",
       "      <th>75%</th>\n",
       "      <td>2.000000</td>\n",
       "      <td>3.000000</td>\n",
       "      <td>16933.750000</td>\n",
       "      <td>7190.250000</td>\n",
       "      <td>10655.750000</td>\n",
       "      <td>3554.250000</td>\n",
       "      <td>3922.000000</td>\n",
       "      <td>1820.250000</td>\n",
       "    </tr>\n",
       "    <tr>\n",
       "      <th>max</th>\n",
       "      <td>2.000000</td>\n",
       "      <td>3.000000</td>\n",
       "      <td>112151.000000</td>\n",
       "      <td>73498.000000</td>\n",
       "      <td>92780.000000</td>\n",
       "      <td>60869.000000</td>\n",
       "      <td>40827.000000</td>\n",
       "      <td>47943.000000</td>\n",
       "    </tr>\n",
       "  </tbody>\n",
       "</table>\n",
       "</div>"
      ],
      "text/plain": [
       "          Channel      Region          Fresh          Milk       Grocery  \\\n",
       "count  440.000000  440.000000     440.000000    440.000000    440.000000   \n",
       "mean     1.322727    2.543182   12000.297727   5796.265909   7951.277273   \n",
       "std      0.468052    0.774272   12647.328865   7380.377175   9503.162829   \n",
       "min      1.000000    1.000000       3.000000     55.000000      3.000000   \n",
       "25%      1.000000    2.000000    3127.750000   1533.000000   2153.000000   \n",
       "50%      1.000000    3.000000    8504.000000   3627.000000   4755.500000   \n",
       "75%      2.000000    3.000000   16933.750000   7190.250000  10655.750000   \n",
       "max      2.000000    3.000000  112151.000000  73498.000000  92780.000000   \n",
       "\n",
       "             Frozen  Detergents_Paper    Delicassen  \n",
       "count    440.000000        440.000000    440.000000  \n",
       "mean    3071.931818       2881.493182   1524.870455  \n",
       "std     4854.673333       4767.854448   2820.105937  \n",
       "min       25.000000          3.000000      3.000000  \n",
       "25%      742.250000        256.750000    408.250000  \n",
       "50%     1526.000000        816.500000    965.500000  \n",
       "75%     3554.250000       3922.000000   1820.250000  \n",
       "max    60869.000000      40827.000000  47943.000000  "
      ]
     },
     "execution_count": 3,
     "metadata": {},
     "output_type": "execute_result"
    }
   ],
   "source": [
    "# Generate summary statistics\n",
    "whole.describe()"
   ]
  },
  {
   "cell_type": "code",
   "execution_count": 3,
   "id": "5e519dfa",
   "metadata": {},
   "outputs": [
    {
     "name": "stdout",
     "output_type": "stream",
     "text": [
      "181    112151\n",
      "125     76237\n",
      "284     68951\n",
      "39      56159\n",
      "258     56083\n",
      "103     56082\n",
      "259     53205\n",
      "282     49063\n",
      "239     47493\n",
      "176     45640\n",
      "Name: Fresh, dtype: int64\n",
      "86     73498\n",
      "47     54259\n",
      "85     46197\n",
      "183    43950\n",
      "61     38369\n",
      "23     36423\n",
      "56     29892\n",
      "181    29627\n",
      "211    28326\n",
      "92     27472\n",
      "Name: Milk, dtype: int64\n",
      "85     92780\n",
      "333    67298\n",
      "61     59598\n",
      "47     55571\n",
      "65     45828\n",
      "211    39694\n",
      "216    36486\n",
      "145    34792\n",
      "251    33586\n",
      "86     32114\n",
      "Name: Grocery, dtype: int64\n",
      "325    60869\n",
      "183    36534\n",
      "93     35009\n",
      "196    18711\n",
      "103    18028\n",
      "413    17866\n",
      "277    16919\n",
      "181    16745\n",
      "125    16538\n",
      "338    15601\n",
      "Name: Frozen, dtype: int64\n",
      "85     40827\n",
      "333    38102\n",
      "61     26701\n",
      "65     24231\n",
      "47     24171\n",
      "86     20070\n",
      "211    19410\n",
      "92     18906\n",
      "251    18594\n",
      "56     17740\n",
      "Name: Detergents_Paper, dtype: int64\n",
      "183    47943\n",
      "23     16523\n",
      "71     14472\n",
      "87     14351\n",
      "181     8550\n",
      "2       7844\n",
      "202     6854\n",
      "47      6465\n",
      "218     6372\n",
      "171     6250\n",
      "Name: Delicassen, dtype: int64\n"
     ]
    }
   ],
   "source": [
    "# Looking for Outliers\n",
    "top_10Fresh = whole['Fresh'].nlargest(10)\n",
    "top_10Milk = whole['Milk'].nlargest(10)\n",
    "top_10Grocery = whole['Grocery'].nlargest(10)\n",
    "top_10Frozen = whole['Frozen'].nlargest(10)\n",
    "top_10Detergents_Paper = whole['Detergents_Paper'].nlargest(10)\n",
    "top_10Delicassen = whole['Delicassen'].nlargest(10)\n",
    "\n",
    "print(top_10Fresh)\n",
    "print(top_10Milk)\n",
    "print(top_10Grocery)\n",
    "print(top_10Frozen)\n",
    "print(top_10Detergents_Paper)\n",
    "print(top_10Delicassen)"
   ]
  },
  {
   "cell_type": "code",
   "execution_count": 5,
   "id": "d98aa391",
   "metadata": {},
   "outputs": [
    {
     "name": "stdout",
     "output_type": "stream",
     "text": [
      "Channel             0\n",
      "Region              0\n",
      "Fresh               0\n",
      "Milk                0\n",
      "Grocery             0\n",
      "Frozen              0\n",
      "Detergents_Paper    0\n",
      "Delicassen          0\n",
      "dtype: int64\n"
     ]
    }
   ],
   "source": [
    "# Handling Missing Values\n",
    "# Count the nulls in each column\n",
    "null_counts = whole.isnull().sum()\n",
    "print(null_counts)"
   ]
  },
  {
   "cell_type": "code",
   "execution_count": 6,
   "id": "f9e01feb",
   "metadata": {},
   "outputs": [
    {
     "data": {
      "text/plain": [
       "(332, 8)"
      ]
     },
     "execution_count": 6,
     "metadata": {},
     "output_type": "execute_result"
    }
   ],
   "source": [
    "# Calculate the IQR and identify outliers\n",
    "Q1 = whole.quantile(0.25)\n",
    "Q3 = whole.quantile(0.75)\n",
    "IQR = Q3 - Q1\n",
    "\n",
    "# Identify outliers\n",
    "outliers = ((whole < (Q1 - 1.5 * IQR)) | (whole > (Q3 + 1.5 * IQR)))\n",
    "outliers\n",
    "# out_counts = (outliers == 'True').sum()\n",
    "# out_counts\n",
    "out_dum = outliers.astype(int)\n",
    "out_dum.describe()\n",
    "\n",
    "# For compare and contrast with and without outliers\n",
    "# Drop outliers from the dataframe\n",
    "whole_no_outliers = whole[~outliers.any(axis=1)]\n",
    "whole_no_outliers.shape"
   ]
  },
  {
   "cell_type": "code",
   "execution_count": 11,
   "id": "026cf84b",
   "metadata": {},
   "outputs": [
    {
     "data": {
      "text/plain": [
       "(440, 8)"
      ]
     },
     "execution_count": 11,
     "metadata": {},
     "output_type": "execute_result"
    }
   ],
   "source": [
    "whole.shape"
   ]
  },
  {
   "cell_type": "code",
   "execution_count": 8,
   "id": "8959e116",
   "metadata": {},
   "outputs": [
    {
     "data": {
      "image/png": "[encoded data removed]",
      "text/plain": [
       "<Figure size 1000x800 with 2 Axes>"
      ]
     },
     "metadata": {},
     "output_type": "display_data"
    }
   ],
   "source": [
    "# Generate the correlation matrix for the df with outliers removed\n",
    "correlation_matrix = whole_no_outliers.corr()\n",
    "\n",
    "# print(correlation_matrix)\n",
    "\n",
    "import seaborn as sns\n",
    "import matplotlib.pyplot as plt\n",
    "# Create the correlation heatmap using seaborn\n",
    "plt.figure(figsize=(10, 8))  # Set the size of the heatmap\n",
    "sns.heatmap(correlation_matrix, annot=True, cmap='coolwarm')\n",
    "\n",
    "# Customize the plot\n",
    "plt.title('Correlation Heatmap')\n",
    "plt.xticks(rotation=45)\n",
    "plt.yticks(rotation=0)\n",
    "plt.show()"
   ]
  },
  {
   "attachments": {},
   "cell_type": "markdown",
   "id": "9558b569",
   "metadata": {},
   "source": [
    "Dimension reduction: There are some high correlations among some categories, so some Might not be needed all of them. Region has a low correlation with all, so it might not be adding much useful information to the model. Channels already are de facto clusters. Delicassen doesn't have a strong relationship with anything. Grocery, a category that overlaps with others, has strong correlations with Milk (0.73) and Detergents_Paper (0.85), so it might not be necessary if the other two are in the model."
   ]
  },
  {
   "cell_type": "code",
   "execution_count": 43,
   "id": "96be33ab",
   "metadata": {},
   "outputs": [],
   "source": [
    "whole4 = whole.drop(['Channel', 'Region', 'Grocery', 'Delicassen'], axis=1)"
   ]
  },
  {
   "cell_type": "code",
   "execution_count": 59,
   "id": "aa5c43e9",
   "metadata": {},
   "outputs": [],
   "source": [
    "# Data Preparation\n",
    "# Scaling Full Model 'whole' with 8 features and Reduced Model 'whole4' with 4 features (Fresh, Frozen, Milk, Detergents_Paper)\n",
    "# standarized Full whole\n",
    "from sklearn.preprocessing import StandardScaler\n",
    "scaled_whole = StandardScaler().fit_transform(whole)\n",
    "# standarized Reduced whole4\n",
    "scaled_whole4 = StandardScaler().fit_transform(whole4)\n",
    "\n",
    "# No Outliers Full and Reduced Models scaled\n",
    "scaled_wno = StandardScaler().fit_transform(whole_no_outliers) #Full scaled\n",
    "whole4_no_outliers = whole_no_outliers.drop(['Channel', 'Region', 'Grocery', 'Delicassen'], axis=1) #Reduced model without outliers\n",
    "scaled_w4no = StandardScaler().fit_transform(whole_no_outliers) #Reduced scaled"
   ]
  },
  {
   "attachments": {},
   "cell_type": "markdown",
   "id": "105a9b91",
   "metadata": {},
   "source": []
  },
  {
   "attachments": {},
   "cell_type": "markdown",
   "id": "fd472b2a",
   "metadata": {},
   "source": [
    "# Part II - KMeans Clustering"
   ]
  },
  {
   "attachments": {},
   "cell_type": "markdown",
   "id": "54982ce3",
   "metadata": {},
   "source": [
    "The objective of the analysis is to group similar products together into clusters based on their attributes such as fresh, milk, grocery, frozen, detergents_paper, and delicatessen. To perform the k-means clustering analysis, you will need to pre-process the dataset, determine the optimal number of clusters, initialize the centroids, assign data points to clusters, update the centroids, and repeat until convergence."
   ]
  },
  {
   "cell_type": "code",
   "execution_count": null,
   "id": "4fe55289",
   "metadata": {},
   "outputs": [],
   "source": [
    "# KMeans Full Model\n",
    "from sklearn.cluster import KMeans\n",
    "from yellowbrick.cluster import KElbowVisualizer\n",
    "# Create an instance of the KMeans class\n",
    "# km = KMeans(n_clusters=3)\n",
    "\n",
    "# Fit the model to your data\n",
    "# km.fit(scaled_wno)\n",
    "\n",
    "# Make predictions\n",
    "# labels = km.predict(scaled_wno)\n",
    "\n",
    "# Get the cluster centers\n",
    "# cluster_centers = km.cluster_centers_\n",
    "\n",
    "# Instantiate the clustering model and visualizer\n",
    "km = KMeans(random_state=42)\n",
    "visualizer = KElbowVisualizer(km, k=(2,8))\n",
    " \n",
    "visualizer.fit(scaled_wno)        # Fit the data to the visualizer\n",
    "visualizer.show()        # Finalize and render the figure"
   ]
  },
  {
   "attachments": {},
   "cell_type": "markdown",
   "id": "ca793cea",
   "metadata": {},
   "source": [
    "Rate of reduction in Distortion Scores does go down after moving from k=3 to k=4. The optimal number is k=4."
   ]
  },
  {
   "cell_type": "code",
   "execution_count": null,
   "id": "f830f84a",
   "metadata": {},
   "outputs": [],
   "source": [
    "# def plot_clusters(X,y_res, plt_cluster_centers = False):\n",
    "#     X_centroids = []\n",
    "#     Y_centroids = []\n",
    "    \n",
    "#     for cluster in set(y_res):\n",
    "#         x = X[y_res == cluster,0]\n",
    "#         y = X[y_res == cluster,1]\n",
    "#         X_centroids.append(np.mean(x))\n",
    "#         Y_centroids.append(np.mean(y))\n",
    "        \n",
    "#         plt.scatter(x,\n",
    "#                     y,\n",
    "#                     s=50,\n",
    "#                     marker='s',\n",
    "#                     label=f'cluster {cluster}')\n",
    "        \n",
    "#     if plt_cluster_centers:\n",
    "#         plt.scatter(X_centroids,\n",
    "#                     Y_centroids,\n",
    "#                     marker='*',\n",
    "#                     c='red',\n",
    "#                     s=250,\n",
    "#                     label='centroids')\n",
    "#     plt.legend()\n",
    "#     plt.grid()\n",
    "#     plt.show()\n"
   ]
  },
  {
   "cell_type": "code",
   "execution_count": 61,
   "id": "7da31f3d",
   "metadata": {},
   "outputs": [
    {
     "name": "stderr",
     "output_type": "stream",
     "text": [
      "c:\\Users\\User\\anaconda3\\envs\\thisone\\lib\\site-packages\\sklearn\\cluster\\_kmeans.py:1382: UserWarning:\n",
      "\n",
      "KMeans is known to have a memory leak on Windows with MKL, when there are less chunks than available threads. You can avoid it by setting the environment variable OMP_NUM_THREADS=2.\n",
      "\n",
      "c:\\Users\\User\\anaconda3\\envs\\thisone\\lib\\site-packages\\sklearn\\cluster\\_kmeans.py:1382: UserWarning:\n",
      "\n",
      "KMeans is known to have a memory leak on Windows with MKL, when there are less chunks than available threads. You can avoid it by setting the environment variable OMP_NUM_THREADS=2.\n",
      "\n",
      "c:\\Users\\User\\anaconda3\\envs\\thisone\\lib\\site-packages\\sklearn\\cluster\\_kmeans.py:1382: UserWarning:\n",
      "\n",
      "KMeans is known to have a memory leak on Windows with MKL, when there are less chunks than available threads. You can avoid it by setting the environment variable OMP_NUM_THREADS=2.\n",
      "\n",
      "c:\\Users\\User\\anaconda3\\envs\\thisone\\lib\\site-packages\\sklearn\\cluster\\_kmeans.py:1382: UserWarning:\n",
      "\n",
      "KMeans is known to have a memory leak on Windows with MKL, when there are less chunks than available threads. You can avoid it by setting the environment variable OMP_NUM_THREADS=2.\n",
      "\n",
      "c:\\Users\\User\\anaconda3\\envs\\thisone\\lib\\site-packages\\sklearn\\cluster\\_kmeans.py:1382: UserWarning:\n",
      "\n",
      "KMeans is known to have a memory leak on Windows with MKL, when there are less chunks than available threads. You can avoid it by setting the environment variable OMP_NUM_THREADS=2.\n",
      "\n",
      "c:\\Users\\User\\anaconda3\\envs\\thisone\\lib\\site-packages\\sklearn\\cluster\\_kmeans.py:1382: UserWarning:\n",
      "\n",
      "KMeans is known to have a memory leak on Windows with MKL, when there are less chunks than available threads. You can avoid it by setting the environment variable OMP_NUM_THREADS=2.\n",
      "\n"
     ]
    },
    {
     "data": {
      "image/png": "[encoded data removed]",
      "text/plain": [
       "<Figure size 1500x800 with 6 Axes>"
      ]
     },
     "metadata": {},
     "output_type": "display_data"
    }
   ],
   "source": [
    "# Silhouette method for determining optimal number of clusters with Full Model\n",
    "from sklearn import datasets\n",
    "from sklearn.cluster import KMeans\n",
    "import matplotlib.pyplot as plt\n",
    "from yellowbrick.cluster import SilhouetteVisualizer\n",
    "\n",
    "  \n",
    "fig, ax = plt.subplots(3, 2, figsize=(15,8))\n",
    "for i in [2,3, 4, 5,6,7]:\n",
    "    '''\n",
    "    Create KMeans instances for different number of clusters\n",
    "    '''\n",
    "    km = KMeans(n_clusters=i, init='k-means++', n_init=10, max_iter=100, random_state=42)\n",
    "    q, mod = divmod(i, 2)\n",
    "    '''\n",
    "    Create SilhouetteVisualizer instance with KMeans instance\n",
    "    Fit the visualizer\n",
    "    '''\n",
    "    visualizer = SilhouetteVisualizer(km, colors='yellowbrick', ax=ax[q-1][mod])\n",
    "    visualizer.fit(scaled_wno)"
   ]
  },
  {
   "attachments": {},
   "cell_type": "markdown",
   "id": "78ecb851",
   "metadata": {},
   "source": [
    "All clusters have scores above the average score for the dataset (represented by the red dashed line), a criterion in Silhouette selection. None of the Silhouette graphs is ideal because of the variance in the width of the clusters, with k=3-5 clusters looking the most even. Combining the results of the Elbow and Silhouette method suggest k=4 is the best."
   ]
  },
  {
   "cell_type": "code",
   "execution_count": 115,
   "id": "89060354",
   "metadata": {},
   "outputs": [
    {
     "name": "stderr",
     "output_type": "stream",
     "text": [
      "c:\\Users\\User\\anaconda3\\envs\\thisone\\lib\\site-packages\\sklearn\\cluster\\_kmeans.py:870: FutureWarning:\n",
      "\n",
      "The default value of `n_init` will change from 10 to 'auto' in 1.4. Set the value of `n_init` explicitly to suppress the warning\n",
      "\n",
      "c:\\Users\\User\\anaconda3\\envs\\thisone\\lib\\site-packages\\sklearn\\cluster\\_kmeans.py:1382: UserWarning:\n",
      "\n",
      "KMeans is known to have a memory leak on Windows with MKL, when there are less chunks than available threads. You can avoid it by setting the environment variable OMP_NUM_THREADS=2.\n",
      "\n"
     ]
    },
    {
     "data": {
      "application/vnd.plotly.v1+json": {
       "config": {
        "plotlyServerURL": "https://plot.ly"
       },
       "data": [
        {
         "marker": {
          "color": [
           1,
           1,
           2,
           1,
           1,
           1,
           3,
           1,
           1,
           3,
           1,
           1,
           1,
           3,
           1,
           1,
           3,
           1,
           3,
           1,
           3,
           3,
           2,
           3,
           3,
           2,
           3,
           1,
           1,
           2,
           1,
           1,
           1,
           1,
           2,
           3,
           1,
           2,
           3,
           1,
           3,
           3,
           1,
           1,
           1,
           3,
           3,
           1,
           2,
           3,
           1,
           2,
           2,
           3,
           3,
           3,
           1,
           1,
           2,
           1,
           2,
           3,
           1,
           3,
           1,
           3,
           3,
           2,
           1,
           1,
           1,
           3,
           3,
           1,
           1,
           1,
           2,
           1,
           2,
           2,
           3,
           3,
           3,
           2,
           2,
           2,
           3,
           3,
           1,
           2,
           1,
           3,
           2,
           3,
           3,
           3,
           3,
           3,
           2,
           3,
           2,
           3,
           2,
           2,
           2,
           3,
           3,
           3,
           3,
           2,
           3,
           3,
           2,
           3,
           3,
           1,
           2,
           1,
           1,
           1,
           2,
           2,
           1,
           1,
           1,
           3,
           3,
           3,
           1,
           3,
           3,
           1,
           2,
           3,
           2,
           2,
           1,
           3,
           3,
           3,
           2,
           1,
           1,
           2,
           3,
           3,
           1,
           3,
           1,
           0,
           0,
           0,
           0,
           0,
           0,
           0,
           0,
           0,
           0,
           1,
           1,
           0,
           0,
           0,
           0,
           0,
           0,
           0,
           0,
           1,
           0,
           0,
           0,
           0,
           0,
           0,
           0,
           0,
           0,
           0,
           0,
           0,
           0,
           0,
           0,
           1,
           0,
           0,
           0,
           0,
           0,
           0,
           0,
           0,
           0,
           0,
           0,
           0,
           0,
           0,
           1,
           1,
           2,
           1,
           0,
           0,
           0,
           0,
           2,
           3,
           3,
           2,
           2,
           1,
           3,
           1,
           3,
           3,
           3,
           3,
           3,
           1,
           2,
           3,
           2,
           1,
           1,
           3,
           1,
           1,
           1,
           1,
           1,
           0,
           3,
           2,
           0,
           0,
           1,
           0,
           3,
           0,
           3,
           0,
           0,
           0,
           2,
           0,
           3,
           0,
           0,
           2,
           1,
           3,
           1,
           1,
           3,
           3,
           3,
           1,
           1,
           3,
           3,
           3,
           1,
           2,
           3,
           2,
           1,
           3,
           2,
           3,
           3,
           3,
           3,
           1,
           3,
           3,
           2,
           3,
           1,
           3,
           3,
           1,
           3,
           1,
           2,
           2,
           3,
           3,
           3,
           2,
           3,
           3,
           2,
           3,
           3,
           3,
           3,
           1,
           2,
           2,
           3,
           3,
           2,
           2,
           2,
           3,
           1,
           1,
           3,
           3,
           2,
           1,
           1,
           3,
           1,
           3,
           1,
           1,
           2,
           3,
           1,
           1,
           3,
           3,
           3,
           3,
           3,
           3,
           3,
           3
          ],
          "line": {
           "color": "black",
           "width": 10
          },
          "size": 10
         },
         "mode": "markers",
         "type": "scatter3d",
         "x": [
          2674,
          3293,
          507,
          1795,
          3140,
          3321,
          1716,
          7425,
          5977,
          549,
          3881,
          6707,
          5058,
          964,
          4508,
          2767,
          2518,
          2259,
          375,
          4003,
          242,
          100,
          2134,
          820,
          918,
          361,
          483,
          4239,
          6506,
          2575,
          6899,
          4618,
          6792,
          5121,
          609,
          1538,
          5611,
          204,
          2024,
          7572,
          227,
          3084,
          4095,
          4074,
          7677,
          1247,
          3468,
          5141,
          788,
          656,
          1901,
          3,
          529,
          301,
          1202,
          610,
          7818,
          3537,
          550,
          3837,
          454,
          69,
          5038,
          223,
          3874,
          54,
          56,
          215,
          8035,
          6766,
          4573,
          1491,
          139,
          6830,
          8969,
          2505,
          169,
          6457,
          585,
          118,
          276,
          310,
          319,
          411,
          266,
          174,
          264,
          25,
          1976,
          500,
          2386,
          1062,
          395,
          70,
          955,
          256,
          47,
          199,
          2447,
          721,
          249,
          637,
          960,
          51,
          20,
          516,
          73,
          1082,
          283,
          113,
          170,
          255,
          352,
          302,
          7,
          6694,
          811,
          4004,
          8077,
          4424,
          3,
          232,
          3674,
          7108,
          4973,
          1680,
          79,
          69,
          7015,
          2840,
          153,
          4196,
          20,
          120,
          273,
          1382,
          6907,
          334,
          58,
          949,
          3459,
          6839,
          4027,
          118,
          43,
          187,
          5618,
          355,
          4314,
          592,
          402,
          954,
          5,
          288,
          5316,
          3381,
          244,
          240,
          3961,
          5957,
          5828,
          130,
          86,
          56,
          4167,
          256,
          788,
          70,
          761,
          2568,
          263,
          4762,
          694,
          1566,
          284,
          409,
          325,
          1216,
          415,
          28,
          72,
          412,
          586,
          1682,
          3143,
          8933,
          430,
          44,
          562,
          918,
          234,
          205,
          363,
          111,
          392,
          3593,
          780,
          49,
          429,
          2894,
          5980,
          4882,
          737,
          6374,
          333,
          197,
          147,
          93,
          210,
          759,
          96,
          603,
          274,
          3620,
          167,
          2328,
          1226,
          445,
          965,
          212,
          825,
          5952,
          811,
          2208,
          710,
          3712,
          4538,
          290,
          2662,
          8752,
          6236,
          3909,
          7558,
          351,
          257,
          371,
          183,
          857,
          3891,
          83,
          821,
          706,
          275,
          228,
          1470,
          1679,
          140,
          387,
          88,
          492,
          182,
          178,
          4111,
          146,
          7271,
          5162,
          4595,
          217,
          3843,
          6600,
          4621,
          1184,
          173,
          90,
          8682,
          1333,
          184,
          9,
          6747,
          232,
          468,
          159,
          179,
          1335,
          514,
          4515,
          222,
          252,
          101,
          41,
          1916,
          311,
          476,
          4666,
          68,
          813,
          600,
          1711,
          397,
          192,
          353,
          231,
          200,
          227,
          311,
          95,
          122,
          149,
          841,
          3378,
          64,
          74,
          469,
          153,
          10,
          632,
          914,
          593,
          7883,
          2730,
          1860,
          2970,
          1135,
          3540,
          6728,
          3485,
          6740,
          1580,
          6818,
          3415,
          948,
          1803,
          3213,
          5079,
          850,
          84,
          241,
          1328,
          356,
          2371,
          168,
          477
         ],
         "y": [
          214,
          1762,
          6404,
          666,
          480,
          1669,
          425,
          1159,
          4400,
          1420,
          287,
          3095,
          294,
          397,
          134,
          2205,
          669,
          1066,
          3383,
          201,
          3151,
          485,
          1148,
          2088,
          266,
          6130,
          425,
          833,
          1920,
          2033,
          188,
          541,
          1668,
          584,
          3860,
          239,
          744,
          2436,
          1057,
          38,
          596,
          129,
          96,
          4154,
          2896,
          3724,
          175,
          1256,
          5870,
          779,
          1285,
          4407,
          7530,
          2096,
          868,
          430,
          283,
          737,
          2320,
          1178,
          3443,
          3347,
          206,
          440,
          145,
          774,
          895,
          5639,
          3252,
          1593,
          2561,
          1336,
          910,
          133,
          2471,
          247,
          2276,
          805,
          3220,
          2555,
          2715,
          1517,
          1647,
          5343,
          3896,
          2417,
          2395,
          1991,
          2194,
          4787,
          880,
          142,
          6316,
          346,
          576,
          436,
          720,
          1170,
          4575,
          661,
          155,
          825,
          2279,
          321,
          2995,
          118,
          926,
          1286,
          4052,
          800,
          853,
          531,
          3001,
          779,
          75,
          317,
          3378,
          930,
          398,
          824,
          1092,
          2665,
          2540,
          4425,
          993,
          405,
          1393,
          2399,
          1116,
          333,
          2515,
          52,
          1752,
          1152,
          4477,
          402,
          443,
          74,
          2181,
          3470,
          6269,
          2758,
          275,
          7332,
          890,
          547,
          959,
          806,
          1127,
          3527,
          520,
          469,
          1383,
          878,
          2946,
          1859,
          1801,
          1291,
          1329,
          913,
          1374,
          2532,
          2306,
          1765,
          91,
          7496,
          5612,
          784,
          660,
          1759,
          2286,
          950,
          6845,
          1439,
          638,
          937,
          4260,
          1218,
          2312,
          4634,
          1112,
          2216,
          3752,
          561,
          1183,
          230,
          1777,
          2077,
          559,
          6340,
          1730,
          7683,
          432,
          3242,
          453,
          5004,
          327,
          6818,
          982,
          4324,
          61,
          2221,
          3975,
          1069,
          2516,
          5500,
          1120,
          529,
          4802,
          744,
          862,
          4479,
          5845,
          1293,
          977,
          1093,
          1619,
          848,
          502,
          2507,
          3838,
          902,
          909,
          417,
          3045,
          1455,
          934,
          264,
          824,
          1809,
          364,
          799,
          1840,
          1149,
          416,
          3046,
          4447,
          1483,
          662,
          2679,
          978,
          2121,
          514,
          2714,
          3703,
          915,
          2369,
          3498,
          414,
          5127,
          3570,
          2208,
          1365,
          650,
          388,
          767,
          349,
          2234,
          402,
          2693,
          2809,
          1341,
          1796,
          830,
          228,
          6386,
          245,
          3157,
          137,
          340,
          2601,
          1206,
          560,
          191,
          1103,
          1619,
          1173,
          1457,
          2046,
          1089,
          1504,
          1492,
          597,
          5641,
          282,
          130,
          3881,
          2540,
          4006,
          2583,
          1945,
          1960,
          1677,
          3019,
          5502,
          907,
          659,
          1398,
          2921,
          2644,
          6838,
          5390,
          1601,
          3576,
          220,
          127,
          4324,
          2069,
          2854,
          1646,
          1389,
          98,
          5679,
          1691,
          848,
          364,
          133,
          633,
          25,
          1031,
          830,
          1059,
          874,
          3141,
          2198,
          47,
          575,
          269,
          1541,
          688,
          1038,
          65
         ],
         "z": [
          9656,
          9810,
          1196,
          8259,
          3199,
          4956,
          3648,
          11093,
          5403,
          1124,
          12319,
          6208,
          9465,
          1114,
          8816,
          6327,
          2495,
          4519,
          871,
          4230,
          961,
          803,
          3610,
          4339,
          1318,
          4786,
          1979,
          5491,
          10556,
          3065,
          7555,
          7027,
          14069,
          6152,
          1095,
          4051,
          10473,
          1449,
          3683,
          9933,
          1970,
          5360,
          3045,
          6245,
          11601,
          1227,
          1534,
          6759,
          7260,
          2820,
          6343,
          1137,
          3587,
          1175,
          3259,
          829,
          9540,
          9232,
          1563,
          3327,
          3836,
          596,
          12220,
          2920,
          2616,
          254,
          112,
          2182,
          7779,
          10810,
          6459,
          2132,
          1014,
          6337,
          10646,
          8397,
          1648,
          11114,
          2295,
          1080,
          793,
          2521,
          3880,
          1891,
          2344,
          1200,
          3234,
          201,
          10769,
          1642,
          7243,
          8847,
          2428,
          589,
          2032,
          1042,
          1882,
          1289,
          8579,
          8080,
          4257,
          4979,
          4280,
          13252,
          7152,
          3677,
          1936,
          3373,
          584,
          1433,
          1825,
          3328,
          1371,
          9250,
          55,
          5291,
          1366,
          6570,
          7704,
          3651,
          540,
          2024,
          7603,
          12653,
          6721,
          3195,
          735,
          717,
          8675,
          5479,
          1208,
          7845,
          7330,
          7075,
          4888,
          6036,
          8533,
          918,
          6448,
          521,
          8002,
          7639,
          11577,
          6250,
          295,
          1461,
          3485,
          1012,
          7097,
          2154,
          2280,
          685,
          891,
          780,
          4737,
          3748,
          1895,
          1012,
          6602,
          6551,
          10765,
          1475,
          367,
          899,
          7503,
          1115,
          2527,
          659,
          3243,
          5921,
          2204,
          577,
          2746,
          10678,
          1780,
          4984,
          2703,
          6380,
          820,
          3838,
          475,
          1801,
          659,
          3576,
          7775,
          6154,
          2428,
          346,
          5279,
          3795,
          1993,
          1860,
          7961,
          489,
          5008,
          1931,
          4885,
          1110,
          1372,
          1115,
          9679,
          9763,
          1222,
          8053,
          258,
          1032,
          5007,
          8323,
          3045,
          1703,
          1610,
          3749,
          2317,
          6200,
          2884,
          7108,
          2247,
          594,
          2160,
          3354,
          3086,
          11103,
          2013,
          1897,
          1304,
          3199,
          4560,
          879,
          6243,
          13316,
          5302,
          12939,
          12867,
          2374,
          1020,
          2335,
          925,
          1795,
          14982,
          1375,
          3088,
          2713,
          3696,
          1897,
          713,
          944,
          3587,
          1610,
          899,
          1486,
          1786,
          3216,
          6817,
          1511,
          4025,
          5763,
          5758,
          1172,
          2602,
          6939,
          7184,
          2380,
          1099,
          1106,
          6264,
          7393,
          727,
          134,
          1275,
          5878,
          2872,
          607,
          1601,
          997,
          873,
          6128,
          2217,
          894,
          1196,
          337,
          6257,
          2256,
          1450,
          8630,
          3294,
          5164,
          944,
          7435,
          1364,
          922,
          3620,
          1916,
          848,
          1530,
          1181,
          2761,
          4180,
          865,
          1316,
          11991,
          1666,
          1032,
          577,
          906,
          4753,
          11006,
          4613,
          1046,
          12844,
          3880,
          2096,
          3605,
          1990,
          6046,
          10940,
          5499,
          8494,
          3783,
          5266,
          4847,
          1377,
          3686,
          2884,
          9347,
          5970,
          1750,
          4230,
          1162,
          3218,
          3922,
          1981,
          1698
         ]
        }
       ],
       "layout": {
        "height": 800,
        "margin": {
         "l": 0,
         "r": 0
        },
        "scene": {
         "xaxis": {
          "title": {
           "text": "Detergents_Paper -->"
          }
         },
         "yaxis": {
          "title": {
           "text": "Frozen -->"
          }
         },
         "zaxis": {
          "title": {
           "text": "Milk -->"
          }
         }
        },
        "template": {
         "data": {
          "bar": [
           {
            "error_x": {
             "color": "#2a3f5f"
            },
            "error_y": {
             "color": "#2a3f5f"
            },
            "marker": {
             "line": {
              "color": "#E5ECF6",
              "width": 0.5
             },
             "pattern": {
              "fillmode": "overlay",
              "size": 10,
              "solidity": 0.2
             }
            },
            "type": "bar"
           }
          ],
          "barpolar": [
           {
            "marker": {
             "line": {
              "color": "#E5ECF6",
              "width": 0.5
             },
             "pattern": {
              "fillmode": "overlay",
              "size": 10,
              "solidity": 0.2
             }
            },
            "type": "barpolar"
           }
          ],
          "carpet": [
           {
            "aaxis": {
             "endlinecolor": "#2a3f5f",
             "gridcolor": "white",
             "linecolor": "white",
             "minorgridcolor": "white",
             "startlinecolor": "#2a3f5f"
            },
            "baxis": {
             "endlinecolor": "#2a3f5f",
             "gridcolor": "white",
             "linecolor": "white",
             "minorgridcolor": "white",
             "startlinecolor": "#2a3f5f"
            },
            "type": "carpet"
           }
          ],
          "choropleth": [
           {
            "colorbar": {
             "outlinewidth": 0,
             "ticks": ""
            },
            "type": "choropleth"
           }
          ],
          "contour": [
           {
            "colorbar": {
             "outlinewidth": 0,
             "ticks": ""
            },
            "colorscale": [
             [
              0,
              "#0d0887"
             ],
             [
              0.1111111111111111,
              "#46039f"
             ],
             [
              0.2222222222222222,
              "#7201a8"
             ],
             [
              0.3333333333333333,
              "#9c179e"
             ],
             [
              0.4444444444444444,
              "#bd3786"
             ],
             [
              0.5555555555555556,
              "#d8576b"
             ],
             [
              0.6666666666666666,
              "#ed7953"
             ],
             [
              0.7777777777777778,
              "#fb9f3a"
             ],
             [
              0.8888888888888888,
              "#fdca26"
             ],
             [
              1,
              "#f0f921"
             ]
            ],
            "type": "contour"
           }
          ],
          "contourcarpet": [
           {
            "colorbar": {
             "outlinewidth": 0,
             "ticks": ""
            },
            "type": "contourcarpet"
           }
          ],
          "heatmap": [
           {
            "colorbar": {
             "outlinewidth": 0,
             "ticks": ""
            },
            "colorscale": [
             [
              0,
              "#0d0887"
             ],
             [
              0.1111111111111111,
              "#46039f"
             ],
             [
              0.2222222222222222,
              "#7201a8"
             ],
             [
              0.3333333333333333,
              "#9c179e"
             ],
             [
              0.4444444444444444,
              "#bd3786"
             ],
             [
              0.5555555555555556,
              "#d8576b"
             ],
             [
              0.6666666666666666,
              "#ed7953"
             ],
             [
              0.7777777777777778,
              "#fb9f3a"
             ],
             [
              0.8888888888888888,
              "#fdca26"
             ],
             [
              1,
              "#f0f921"
             ]
            ],
            "type": "heatmap"
           }
          ],
          "heatmapgl": [
           {
            "colorbar": {
             "outlinewidth": 0,
             "ticks": ""
            },
            "colorscale": [
             [
              0,
              "#0d0887"
             ],
             [
              0.1111111111111111,
              "#46039f"
             ],
             [
              0.2222222222222222,
              "#7201a8"
             ],
             [
              0.3333333333333333,
              "#9c179e"
             ],
             [
              0.4444444444444444,
              "#bd3786"
             ],
             [
              0.5555555555555556,
              "#d8576b"
             ],
             [
              0.6666666666666666,
              "#ed7953"
             ],
             [
              0.7777777777777778,
              "#fb9f3a"
             ],
             [
              0.8888888888888888,
              "#fdca26"
             ],
             [
              1,
              "#f0f921"
             ]
            ],
            "type": "heatmapgl"
           }
          ],
          "histogram": [
           {
            "marker": {
             "pattern": {
              "fillmode": "overlay",
              "size": 10,
              "solidity": 0.2
             }
            },
            "type": "histogram"
           }
          ],
          "histogram2d": [
           {
            "colorbar": {
             "outlinewidth": 0,
             "ticks": ""
            },
            "colorscale": [
             [
              0,
              "#0d0887"
             ],
             [
              0.1111111111111111,
              "#46039f"
             ],
             [
              0.2222222222222222,
              "#7201a8"
             ],
             [
              0.3333333333333333,
              "#9c179e"
             ],
             [
              0.4444444444444444,
              "#bd3786"
             ],
             [
              0.5555555555555556,
              "#d8576b"
             ],
             [
              0.6666666666666666,
              "#ed7953"
             ],
             [
              0.7777777777777778,
              "#fb9f3a"
             ],
             [
              0.8888888888888888,
              "#fdca26"
             ],
             [
              1,
              "#f0f921"
             ]
            ],
            "type": "histogram2d"
           }
          ],
          "histogram2dcontour": [
           {
            "colorbar": {
             "outlinewidth": 0,
             "ticks": ""
            },
            "colorscale": [
             [
              0,
              "#0d0887"
             ],
             [
              0.1111111111111111,
              "#46039f"
             ],
             [
              0.2222222222222222,
              "#7201a8"
             ],
             [
              0.3333333333333333,
              "#9c179e"
             ],
             [
              0.4444444444444444,
              "#bd3786"
             ],
             [
              0.5555555555555556,
              "#d8576b"
             ],
             [
              0.6666666666666666,
              "#ed7953"
             ],
             [
              0.7777777777777778,
              "#fb9f3a"
             ],
             [
              0.8888888888888888,
              "#fdca26"
             ],
             [
              1,
              "#f0f921"
             ]
            ],
            "type": "histogram2dcontour"
           }
          ],
          "mesh3d": [
           {
            "colorbar": {
             "outlinewidth": 0,
             "ticks": ""
            },
            "type": "mesh3d"
           }
          ],
          "parcoords": [
           {
            "line": {
             "colorbar": {
              "outlinewidth": 0,
              "ticks": ""
             }
            },
            "type": "parcoords"
           }
          ],
          "pie": [
           {
            "automargin": true,
            "type": "pie"
           }
          ],
          "scatter": [
           {
            "fillpattern": {
             "fillmode": "overlay",
             "size": 10,
             "solidity": 0.2
            },
            "type": "scatter"
           }
          ],
          "scatter3d": [
           {
            "line": {
             "colorbar": {
              "outlinewidth": 0,
              "ticks": ""
             }
            },
            "marker": {
             "colorbar": {
              "outlinewidth": 0,
              "ticks": ""
             }
            },
            "type": "scatter3d"
           }
          ],
          "scattercarpet": [
           {
            "marker": {
             "colorbar": {
              "outlinewidth": 0,
              "ticks": ""
             }
            },
            "type": "scattercarpet"
           }
          ],
          "scattergeo": [
           {
            "marker": {
             "colorbar": {
              "outlinewidth": 0,
              "ticks": ""
             }
            },
            "type": "scattergeo"
           }
          ],
          "scattergl": [
           {
            "marker": {
             "colorbar": {
              "outlinewidth": 0,
              "ticks": ""
             }
            },
            "type": "scattergl"
           }
          ],
          "scattermapbox": [
           {
            "marker": {
             "colorbar": {
              "outlinewidth": 0,
              "ticks": ""
             }
            },
            "type": "scattermapbox"
           }
          ],
          "scatterpolar": [
           {
            "marker": {
             "colorbar": {
              "outlinewidth": 0,
              "ticks": ""
             }
            },
            "type": "scatterpolar"
           }
          ],
          "scatterpolargl": [
           {
            "marker": {
             "colorbar": {
              "outlinewidth": 0,
              "ticks": ""
             }
            },
            "type": "scatterpolargl"
           }
          ],
          "scatterternary": [
           {
            "marker": {
             "colorbar": {
              "outlinewidth": 0,
              "ticks": ""
             }
            },
            "type": "scatterternary"
           }
          ],
          "surface": [
           {
            "colorbar": {
             "outlinewidth": 0,
             "ticks": ""
            },
            "colorscale": [
             [
              0,
              "#0d0887"
             ],
             [
              0.1111111111111111,
              "#46039f"
             ],
             [
              0.2222222222222222,
              "#7201a8"
             ],
             [
              0.3333333333333333,
              "#9c179e"
             ],
             [
              0.4444444444444444,
              "#bd3786"
             ],
             [
              0.5555555555555556,
              "#d8576b"
             ],
             [
              0.6666666666666666,
              "#ed7953"
             ],
             [
              0.7777777777777778,
              "#fb9f3a"
             ],
             [
              0.8888888888888888,
              "#fdca26"
             ],
             [
              1,
              "#f0f921"
             ]
            ],
            "type": "surface"
           }
          ],
          "table": [
           {
            "cells": {
             "fill": {
              "color": "#EBF0F8"
             },
             "line": {
              "color": "white"
             }
            },
            "header": {
             "fill": {
              "color": "#C8D4E3"
             },
             "line": {
              "color": "white"
             }
            },
            "type": "table"
           }
          ]
         },
         "layout": {
          "annotationdefaults": {
           "arrowcolor": "#2a3f5f",
           "arrowhead": 0,
           "arrowwidth": 1
          },
          "autotypenumbers": "strict",
          "coloraxis": {
           "colorbar": {
            "outlinewidth": 0,
            "ticks": ""
           }
          },
          "colorscale": {
           "diverging": [
            [
             0,
             "#8e0152"
            ],
            [
             0.1,
             "#c51b7d"
            ],
            [
             0.2,
             "#de77ae"
            ],
            [
             0.3,
             "#f1b6da"
            ],
            [
             0.4,
             "#fde0ef"
            ],
            [
             0.5,
             "#f7f7f7"
            ],
            [
             0.6,
             "#e6f5d0"
            ],
            [
             0.7,
             "#b8e186"
            ],
            [
             0.8,
             "#7fbc41"
            ],
            [
             0.9,
             "#4d9221"
            ],
            [
             1,
             "#276419"
            ]
           ],
           "sequential": [
            [
             0,
             "#0d0887"
            ],
            [
             0.1111111111111111,
             "#46039f"
            ],
            [
             0.2222222222222222,
             "#7201a8"
            ],
            [
             0.3333333333333333,
             "#9c179e"
            ],
            [
             0.4444444444444444,
             "#bd3786"
            ],
            [
             0.5555555555555556,
             "#d8576b"
            ],
            [
             0.6666666666666666,
             "#ed7953"
            ],
            [
             0.7777777777777778,
             "#fb9f3a"
            ],
            [
             0.8888888888888888,
             "#fdca26"
            ],
            [
             1,
             "#f0f921"
            ]
           ],
           "sequentialminus": [
            [
             0,
             "#0d0887"
            ],
            [
             0.1111111111111111,
             "#46039f"
            ],
            [
             0.2222222222222222,
             "#7201a8"
            ],
            [
             0.3333333333333333,
             "#9c179e"
            ],
            [
             0.4444444444444444,
             "#bd3786"
            ],
            [
             0.5555555555555556,
             "#d8576b"
            ],
            [
             0.6666666666666666,
             "#ed7953"
            ],
            [
             0.7777777777777778,
             "#fb9f3a"
            ],
            [
             0.8888888888888888,
             "#fdca26"
            ],
            [
             1,
             "#f0f921"
            ]
           ]
          },
          "colorway": [
           "#636efa",
           "#EF553B",
           "#00cc96",
           "#ab63fa",
           "#FFA15A",
           "#19d3f3",
           "#FF6692",
           "#B6E880",
           "#FF97FF",
           "#FECB52"
          ],
          "font": {
           "color": "#2a3f5f"
          },
          "geo": {
           "bgcolor": "white",
           "lakecolor": "white",
           "landcolor": "#E5ECF6",
           "showlakes": true,
           "showland": true,
           "subunitcolor": "white"
          },
          "hoverlabel": {
           "align": "left"
          },
          "hovermode": "closest",
          "mapbox": {
           "style": "light"
          },
          "paper_bgcolor": "white",
          "plot_bgcolor": "#E5ECF6",
          "polar": {
           "angularaxis": {
            "gridcolor": "white",
            "linecolor": "white",
            "ticks": ""
           },
           "bgcolor": "#E5ECF6",
           "radialaxis": {
            "gridcolor": "white",
            "linecolor": "white",
            "ticks": ""
           }
          },
          "scene": {
           "xaxis": {
            "backgroundcolor": "#E5ECF6",
            "gridcolor": "white",
            "gridwidth": 2,
            "linecolor": "white",
            "showbackground": true,
            "ticks": "",
            "zerolinecolor": "white"
           },
           "yaxis": {
            "backgroundcolor": "#E5ECF6",
            "gridcolor": "white",
            "gridwidth": 2,
            "linecolor": "white",
            "showbackground": true,
            "ticks": "",
            "zerolinecolor": "white"
           },
           "zaxis": {
            "backgroundcolor": "#E5ECF6",
            "gridcolor": "white",
            "gridwidth": 2,
            "linecolor": "white",
            "showbackground": true,
            "ticks": "",
            "zerolinecolor": "white"
           }
          },
          "shapedefaults": {
           "line": {
            "color": "#2a3f5f"
           }
          },
          "ternary": {
           "aaxis": {
            "gridcolor": "white",
            "linecolor": "white",
            "ticks": ""
           },
           "baxis": {
            "gridcolor": "white",
            "linecolor": "white",
            "ticks": ""
           },
           "bgcolor": "#E5ECF6",
           "caxis": {
            "gridcolor": "white",
            "linecolor": "white",
            "ticks": ""
           }
          },
          "title": {
           "x": 0.05
          },
          "xaxis": {
           "automargin": true,
           "gridcolor": "white",
           "linecolor": "white",
           "ticks": "",
           "title": {
            "standoff": 15
           },
           "zerolinecolor": "white",
           "zerolinewidth": 2
          },
          "yaxis": {
           "automargin": true,
           "gridcolor": "white",
           "linecolor": "white",
           "ticks": "",
           "title": {
            "standoff": 15
           },
           "zerolinecolor": "white",
           "zerolinewidth": 2
          }
         }
        },
        "width": 800
       }
      }
     },
     "metadata": {},
     "output_type": "display_data"
    }
   ],
   "source": [
    "# Full Model\n",
    "# import plotly.graph_objs as go\n",
    "# K-means using k = 4\n",
    "kmeans = KMeans(n_clusters=4)\n",
    "kmeans.fit(scaled_wno)\n",
    "y_kmeans = kmeans.predict(scaled_wno)\n",
    "\n",
    "## 3D plot \n",
    "Scene = dict(xaxis = dict(title  = 'Detergents_Paper -->'),yaxis = dict(title  = 'Frozen -->'),zaxis = dict(title  = 'Milk -->'))\n",
    "\n",
    "labels = kmeans.labels_\n",
    "# Create the scatter plot\n",
    "trace = go.Scatter3d(\n",
    "    x=whole_no_outliers['Detergents_Paper'],\n",
    "    y=whole_no_outliers['Frozen'],\n",
    "    z=whole_no_outliers['Milk'],\n",
    "    mode='markers',\n",
    "    marker=dict(color=labels, size=10, line=dict(color='black', width=10))\n",
    ")\n",
    "# Set the layout and create the plot\n",
    "layout = go.Layout(margin=dict(l=0,r=0),scene = Scene,height = 800,width = 800)\n",
    "data = [trace]\n",
    "fig = go.Figure(data = data, layout = layout)\n",
    "fig.show()\n"
   ]
  },
  {
   "cell_type": "code",
   "execution_count": 67,
   "id": "4db7c369",
   "metadata": {},
   "outputs": [
    {
     "name": "stderr",
     "output_type": "stream",
     "text": [
      "c:\\Users\\User\\anaconda3\\envs\\thisone\\lib\\site-packages\\sklearn\\cluster\\_kmeans.py:1382: UserWarning:\n",
      "\n",
      "KMeans is known to have a memory leak on Windows with MKL, when there are less chunks than available threads. You can avoid it by setting the environment variable OMP_NUM_THREADS=2.\n",
      "\n",
      "c:\\Users\\User\\anaconda3\\envs\\thisone\\lib\\site-packages\\sklearn\\cluster\\_kmeans.py:1382: UserWarning:\n",
      "\n",
      "KMeans is known to have a memory leak on Windows with MKL, when there are less chunks than available threads. You can avoid it by setting the environment variable OMP_NUM_THREADS=2.\n",
      "\n",
      "c:\\Users\\User\\anaconda3\\envs\\thisone\\lib\\site-packages\\sklearn\\cluster\\_kmeans.py:1382: UserWarning:\n",
      "\n",
      "KMeans is known to have a memory leak on Windows with MKL, when there are less chunks than available threads. You can avoid it by setting the environment variable OMP_NUM_THREADS=2.\n",
      "\n",
      "c:\\Users\\User\\anaconda3\\envs\\thisone\\lib\\site-packages\\sklearn\\cluster\\_kmeans.py:1382: UserWarning:\n",
      "\n",
      "KMeans is known to have a memory leak on Windows with MKL, when there are less chunks than available threads. You can avoid it by setting the environment variable OMP_NUM_THREADS=2.\n",
      "\n",
      "c:\\Users\\User\\anaconda3\\envs\\thisone\\lib\\site-packages\\sklearn\\cluster\\_kmeans.py:1382: UserWarning:\n",
      "\n",
      "KMeans is known to have a memory leak on Windows with MKL, when there are less chunks than available threads. You can avoid it by setting the environment variable OMP_NUM_THREADS=2.\n",
      "\n",
      "c:\\Users\\User\\anaconda3\\envs\\thisone\\lib\\site-packages\\sklearn\\cluster\\_kmeans.py:1382: UserWarning:\n",
      "\n",
      "KMeans is known to have a memory leak on Windows with MKL, when there are less chunks than available threads. You can avoid it by setting the environment variable OMP_NUM_THREADS=2.\n",
      "\n",
      "c:\\Users\\User\\anaconda3\\envs\\thisone\\lib\\site-packages\\yellowbrick\\utils\\kneed.py:156: YellowbrickWarning:\n",
      "\n",
      "No 'knee' or 'elbow point' detected This could be due to bad clustering, no actual clusters being formed etc.\n",
      "\n",
      "c:\\Users\\User\\anaconda3\\envs\\thisone\\lib\\site-packages\\yellowbrick\\cluster\\elbow.py:374: YellowbrickWarning:\n",
      "\n",
      "No 'knee' or 'elbow' point detected, pass `locate_elbow=False` to remove the warning\n",
      "\n"
     ]
    },
    {
     "data": {
      "image/png": "[encoded data removed]",
      "text/plain": [
       "<Figure size 800x550 with 2 Axes>"
      ]
     },
     "metadata": {},
     "output_type": "display_data"
    },
    {
     "data": {
      "text/plain": [
       "<Axes: title={'center': 'Distortion Score Elbow for KMeans Clustering'}, xlabel='k', ylabel='distortion score'>"
      ]
     },
     "execution_count": 67,
     "metadata": {},
     "output_type": "execute_result"
    }
   ],
   "source": [
    "# Repeat with Reduced Model whole4 with Frozen, Fresh, Milk, and Detergents_Paper\n",
    "# Instantiate the clustering model and visualizer\n",
    "km4 = KMeans(random_state=42)\n",
    "visualizer = KElbowVisualizer(km, k=(2,8))\n",
    " \n",
    "visualizer.fit(scaled_w4no)        # Fit the data to the visualizer\n",
    "visualizer.show()        # Finalize and render the figure"
   ]
  },
  {
   "attachments": {},
   "cell_type": "markdown",
   "id": "fc3b68ed",
   "metadata": {},
   "source": [
    "Same as with full model, k=4 clusters from Elbow method."
   ]
  },
  {
   "cell_type": "code",
   "execution_count": 68,
   "id": "4f6aa69a",
   "metadata": {},
   "outputs": [
    {
     "name": "stderr",
     "output_type": "stream",
     "text": [
      "c:\\Users\\User\\anaconda3\\envs\\thisone\\lib\\site-packages\\sklearn\\cluster\\_kmeans.py:1382: UserWarning:\n",
      "\n",
      "KMeans is known to have a memory leak on Windows with MKL, when there are less chunks than available threads. You can avoid it by setting the environment variable OMP_NUM_THREADS=2.\n",
      "\n",
      "c:\\Users\\User\\anaconda3\\envs\\thisone\\lib\\site-packages\\sklearn\\cluster\\_kmeans.py:1382: UserWarning:\n",
      "\n",
      "KMeans is known to have a memory leak on Windows with MKL, when there are less chunks than available threads. You can avoid it by setting the environment variable OMP_NUM_THREADS=2.\n",
      "\n",
      "c:\\Users\\User\\anaconda3\\envs\\thisone\\lib\\site-packages\\sklearn\\cluster\\_kmeans.py:1382: UserWarning:\n",
      "\n",
      "KMeans is known to have a memory leak on Windows with MKL, when there are less chunks than available threads. You can avoid it by setting the environment variable OMP_NUM_THREADS=2.\n",
      "\n",
      "c:\\Users\\User\\anaconda3\\envs\\thisone\\lib\\site-packages\\sklearn\\cluster\\_kmeans.py:1382: UserWarning:\n",
      "\n",
      "KMeans is known to have a memory leak on Windows with MKL, when there are less chunks than available threads. You can avoid it by setting the environment variable OMP_NUM_THREADS=2.\n",
      "\n",
      "c:\\Users\\User\\anaconda3\\envs\\thisone\\lib\\site-packages\\sklearn\\cluster\\_kmeans.py:1382: UserWarning:\n",
      "\n",
      "KMeans is known to have a memory leak on Windows with MKL, when there are less chunks than available threads. You can avoid it by setting the environment variable OMP_NUM_THREADS=2.\n",
      "\n",
      "c:\\Users\\User\\anaconda3\\envs\\thisone\\lib\\site-packages\\sklearn\\cluster\\_kmeans.py:1382: UserWarning:\n",
      "\n",
      "KMeans is known to have a memory leak on Windows with MKL, when there are less chunks than available threads. You can avoid it by setting the environment variable OMP_NUM_THREADS=2.\n",
      "\n"
     ]
    },
    {
     "data": {
      "image/png": "[encoded data removed]",
      "text/plain": [
       "<Figure size 1500x800 with 6 Axes>"
      ]
     },
     "metadata": {},
     "output_type": "display_data"
    }
   ],
   "source": [
    "# Silhouette method for determining optimal number of clusters with Reduced Model\n",
    "from sklearn import datasets\n",
    "from sklearn.cluster import KMeans\n",
    "import matplotlib.pyplot as plt\n",
    "from yellowbrick.cluster import SilhouetteVisualizer\n",
    "\n",
    "  \n",
    "fig, ax = plt.subplots(3, 2, figsize=(15,8))\n",
    "for i in [2,3, 4, 5,6,7]:\n",
    "    '''\n",
    "    Create KMeans instances for different number of clusters\n",
    "    '''\n",
    "    km4 = KMeans(n_clusters=i, init='k-means++', n_init=10, max_iter=100, random_state=42)\n",
    "    q, mod = divmod(i, 2)\n",
    "    '''\n",
    "    Create SilhouetteVisualizer instance with KMeans instance\n",
    "    Fit the visualizer\n",
    "    '''\n",
    "    visualizer = SilhouetteVisualizer(km4, colors='yellowbrick', ax=ax[q-1][mod])\n",
    "    visualizer.fit(scaled_w4no)"
   ]
  },
  {
   "attachments": {},
   "cell_type": "markdown",
   "id": "c8a60901",
   "metadata": {},
   "source": [
    "Reduced Model Whole 4: While less than clear, all clusters have scores greater than the average for the dataset but still a fair about of difference in cluster widths. Given the 4 from the Elbow method, 4 will be the choice here."
   ]
  },
  {
   "cell_type": "code",
   "execution_count": 69,
   "id": "1c8bf19f",
   "metadata": {},
   "outputs": [
    {
     "name": "stderr",
     "output_type": "stream",
     "text": [
      "c:\\Users\\User\\anaconda3\\envs\\thisone\\lib\\site-packages\\sklearn\\cluster\\_kmeans.py:870: FutureWarning:\n",
      "\n",
      "The default value of `n_init` will change from 10 to 'auto' in 1.4. Set the value of `n_init` explicitly to suppress the warning\n",
      "\n",
      "c:\\Users\\User\\anaconda3\\envs\\thisone\\lib\\site-packages\\sklearn\\cluster\\_kmeans.py:1382: UserWarning:\n",
      "\n",
      "KMeans is known to have a memory leak on Windows with MKL, when there are less chunks than available threads. You can avoid it by setting the environment variable OMP_NUM_THREADS=2.\n",
      "\n"
     ]
    },
    {
     "data": {
      "application/vnd.plotly.v1+json": {
       "config": {
        "plotlyServerURL": "https://plot.ly"
       },
       "data": [
        {
         "marker": {
          "color": [
           1,
           1,
           2,
           1,
           1,
           1,
           0,
           1,
           1,
           0,
           1,
           1,
           1,
           0,
           1,
           1,
           0,
           1,
           0,
           1,
           0,
           0,
           2,
           0,
           0,
           2,
           0,
           1,
           1,
           2,
           1,
           1,
           1,
           1,
           2,
           0,
           1,
           2,
           0,
           1,
           0,
           0,
           1,
           1,
           1,
           0,
           0,
           1,
           2,
           0,
           1,
           2,
           2,
           0,
           0,
           0,
           1,
           1,
           2,
           1,
           2,
           0,
           1,
           0,
           1,
           0,
           0,
           2,
           1,
           1,
           1,
           0,
           0,
           1,
           1,
           1,
           2,
           1,
           2,
           2,
           0,
           0,
           0,
           2,
           0,
           2,
           0,
           0,
           1,
           2,
           1,
           0,
           2,
           0,
           0,
           0,
           0,
           0,
           2,
           0,
           2,
           0,
           2,
           2,
           2,
           0,
           0,
           0,
           0,
           2,
           0,
           0,
           2,
           0,
           0,
           1,
           2,
           1,
           1,
           1,
           0,
           2,
           1,
           1,
           1,
           0,
           0,
           0,
           1,
           0,
           0,
           1,
           2,
           0,
           2,
           2,
           1,
           0,
           0,
           0,
           2,
           1,
           1,
           2,
           0,
           0,
           1,
           0,
           1,
           3,
           3,
           3,
           3,
           3,
           3,
           3,
           3,
           3,
           3,
           1,
           1,
           3,
           3,
           3,
           3,
           3,
           3,
           3,
           3,
           1,
           3,
           3,
           3,
           3,
           3,
           3,
           3,
           3,
           3,
           3,
           3,
           3,
           3,
           3,
           3,
           1,
           3,
           3,
           3,
           3,
           3,
           3,
           3,
           3,
           3,
           3,
           3,
           3,
           3,
           3,
           1,
           1,
           2,
           1,
           3,
           3,
           3,
           3,
           2,
           0,
           0,
           2,
           2,
           1,
           0,
           1,
           0,
           0,
           0,
           0,
           0,
           1,
           2,
           0,
           2,
           1,
           1,
           0,
           1,
           1,
           1,
           1,
           1,
           3,
           0,
           2,
           3,
           3,
           1,
           3,
           0,
           3,
           0,
           3,
           3,
           3,
           2,
           3,
           0,
           3,
           3,
           2,
           1,
           0,
           1,
           1,
           0,
           0,
           0,
           1,
           1,
           0,
           0,
           0,
           1,
           2,
           0,
           2,
           1,
           0,
           2,
           0,
           0,
           0,
           0,
           1,
           0,
           0,
           2,
           0,
           1,
           0,
           0,
           1,
           0,
           1,
           2,
           2,
           0,
           0,
           0,
           2,
           0,
           0,
           2,
           0,
           0,
           0,
           0,
           1,
           2,
           2,
           0,
           0,
           2,
           2,
           2,
           0,
           1,
           1,
           0,
           0,
           2,
           1,
           1,
           0,
           1,
           0,
           1,
           1,
           2,
           0,
           1,
           1,
           0,
           0,
           0,
           0,
           0,
           0,
           0,
           0
          ],
          "line": {
           "color": "black",
           "width": 10
          },
          "size": 10
         },
         "mode": "markers",
         "type": "scatter3d",
         "x": [
          2674,
          3293,
          507,
          1795,
          3140,
          3321,
          1716,
          7425,
          5977,
          549,
          3881,
          6707,
          5058,
          964,
          4508,
          2767,
          2518,
          2259,
          375,
          4003,
          242,
          100,
          2134,
          820,
          918,
          361,
          483,
          4239,
          6506,
          2575,
          6899,
          4618,
          6792,
          5121,
          609,
          1538,
          5611,
          204,
          2024,
          7572,
          227,
          3084,
          4095,
          4074,
          7677,
          1247,
          3468,
          5141,
          788,
          656,
          1901,
          3,
          529,
          301,
          1202,
          610,
          7818,
          3537,
          550,
          3837,
          454,
          69,
          5038,
          223,
          3874,
          54,
          56,
          215,
          8035,
          6766,
          4573,
          1491,
          139,
          6830,
          8969,
          2505,
          169,
          6457,
          585,
          118,
          276,
          310,
          319,
          411,
          266,
          174,
          264,
          25,
          1976,
          500,
          2386,
          1062,
          395,
          70,
          955,
          256,
          47,
          199,
          2447,
          721,
          249,
          637,
          960,
          51,
          20,
          516,
          73,
          1082,
          283,
          113,
          170,
          255,
          352,
          302,
          7,
          6694,
          811,
          4004,
          8077,
          4424,
          3,
          232,
          3674,
          7108,
          4973,
          1680,
          79,
          69,
          7015,
          2840,
          153,
          4196,
          20,
          120,
          273,
          1382,
          6907,
          334,
          58,
          949,
          3459,
          6839,
          4027,
          118,
          43,
          187,
          5618,
          355,
          4314,
          592,
          402,
          954,
          5,
          288,
          5316,
          3381,
          244,
          240,
          3961,
          5957,
          5828,
          130,
          86,
          56,
          4167,
          256,
          788,
          70,
          761,
          2568,
          263,
          4762,
          694,
          1566,
          284,
          409,
          325,
          1216,
          415,
          28,
          72,
          412,
          586,
          1682,
          3143,
          8933,
          430,
          44,
          562,
          918,
          234,
          205,
          363,
          111,
          392,
          3593,
          780,
          49,
          429,
          2894,
          5980,
          4882,
          737,
          6374,
          333,
          197,
          147,
          93,
          210,
          759,
          96,
          603,
          274,
          3620,
          167,
          2328,
          1226,
          445,
          965,
          212,
          825,
          5952,
          811,
          2208,
          710,
          3712,
          4538,
          290,
          2662,
          8752,
          6236,
          3909,
          7558,
          351,
          257,
          371,
          183,
          857,
          3891,
          83,
          821,
          706,
          275,
          228,
          1470,
          1679,
          140,
          387,
          88,
          492,
          182,
          178,
          4111,
          146,
          7271,
          5162,
          4595,
          217,
          3843,
          6600,
          4621,
          1184,
          173,
          90,
          8682,
          1333,
          184,
          9,
          6747,
          232,
          468,
          159,
          179,
          1335,
          514,
          4515,
          222,
          252,
          101,
          41,
          1916,
          311,
          476,
          4666,
          68,
          813,
          600,
          1711,
          397,
          192,
          353,
          231,
          200,
          227,
          311,
          95,
          122,
          149,
          841,
          3378,
          64,
          74,
          469,
          153,
          10,
          632,
          914,
          593,
          7883,
          2730,
          1860,
          2970,
          1135,
          3540,
          6728,
          3485,
          6740,
          1580,
          6818,
          3415,
          948,
          1803,
          3213,
          5079,
          850,
          84,
          241,
          1328,
          356,
          2371,
          168,
          477
         ],
         "y": [
          214,
          1762,
          6404,
          666,
          480,
          1669,
          425,
          1159,
          4400,
          1420,
          287,
          3095,
          294,
          397,
          134,
          2205,
          669,
          1066,
          3383,
          201,
          3151,
          485,
          1148,
          2088,
          266,
          6130,
          425,
          833,
          1920,
          2033,
          188,
          541,
          1668,
          584,
          3860,
          239,
          744,
          2436,
          1057,
          38,
          596,
          129,
          96,
          4154,
          2896,
          3724,
          175,
          1256,
          5870,
          779,
          1285,
          4407,
          7530,
          2096,
          868,
          430,
          283,
          737,
          2320,
          1178,
          3443,
          3347,
          206,
          440,
          145,
          774,
          895,
          5639,
          3252,
          1593,
          2561,
          1336,
          910,
          133,
          2471,
          247,
          2276,
          805,
          3220,
          2555,
          2715,
          1517,
          1647,
          5343,
          3896,
          2417,
          2395,
          1991,
          2194,
          4787,
          880,
          142,
          6316,
          346,
          576,
          436,
          720,
          1170,
          4575,
          661,
          155,
          825,
          2279,
          321,
          2995,
          118,
          926,
          1286,
          4052,
          800,
          853,
          531,
          3001,
          779,
          75,
          317,
          3378,
          930,
          398,
          824,
          1092,
          2665,
          2540,
          4425,
          993,
          405,
          1393,
          2399,
          1116,
          333,
          2515,
          52,
          1752,
          1152,
          4477,
          402,
          443,
          74,
          2181,
          3470,
          6269,
          2758,
          275,
          7332,
          890,
          547,
          959,
          806,
          1127,
          3527,
          520,
          469,
          1383,
          878,
          2946,
          1859,
          1801,
          1291,
          1329,
          913,
          1374,
          2532,
          2306,
          1765,
          91,
          7496,
          5612,
          784,
          660,
          1759,
          2286,
          950,
          6845,
          1439,
          638,
          937,
          4260,
          1218,
          2312,
          4634,
          1112,
          2216,
          3752,
          561,
          1183,
          230,
          1777,
          2077,
          559,
          6340,
          1730,
          7683,
          432,
          3242,
          453,
          5004,
          327,
          6818,
          982,
          4324,
          61,
          2221,
          3975,
          1069,
          2516,
          5500,
          1120,
          529,
          4802,
          744,
          862,
          4479,
          5845,
          1293,
          977,
          1093,
          1619,
          848,
          502,
          2507,
          3838,
          902,
          909,
          417,
          3045,
          1455,
          934,
          264,
          824,
          1809,
          364,
          799,
          1840,
          1149,
          416,
          3046,
          4447,
          1483,
          662,
          2679,
          978,
          2121,
          514,
          2714,
          3703,
          915,
          2369,
          3498,
          414,
          5127,
          3570,
          2208,
          1365,
          650,
          388,
          767,
          349,
          2234,
          402,
          2693,
          2809,
          1341,
          1796,
          830,
          228,
          6386,
          245,
          3157,
          137,
          340,
          2601,
          1206,
          560,
          191,
          1103,
          1619,
          1173,
          1457,
          2046,
          1089,
          1504,
          1492,
          597,
          5641,
          282,
          130,
          3881,
          2540,
          4006,
          2583,
          1945,
          1960,
          1677,
          3019,
          5502,
          907,
          659,
          1398,
          2921,
          2644,
          6838,
          5390,
          1601,
          3576,
          220,
          127,
          4324,
          2069,
          2854,
          1646,
          1389,
          98,
          5679,
          1691,
          848,
          364,
          133,
          633,
          25,
          1031,
          830,
          1059,
          874,
          3141,
          2198,
          47,
          575,
          269,
          1541,
          688,
          1038,
          65
         ],
         "z": [
          9656,
          9810,
          1196,
          8259,
          3199,
          4956,
          3648,
          11093,
          5403,
          1124,
          12319,
          6208,
          9465,
          1114,
          8816,
          6327,
          2495,
          4519,
          871,
          4230,
          961,
          803,
          3610,
          4339,
          1318,
          4786,
          1979,
          5491,
          10556,
          3065,
          7555,
          7027,
          14069,
          6152,
          1095,
          4051,
          10473,
          1449,
          3683,
          9933,
          1970,
          5360,
          3045,
          6245,
          11601,
          1227,
          1534,
          6759,
          7260,
          2820,
          6343,
          1137,
          3587,
          1175,
          3259,
          829,
          9540,
          9232,
          1563,
          3327,
          3836,
          596,
          12220,
          2920,
          2616,
          254,
          112,
          2182,
          7779,
          10810,
          6459,
          2132,
          1014,
          6337,
          10646,
          8397,
          1648,
          11114,
          2295,
          1080,
          793,
          2521,
          3880,
          1891,
          2344,
          1200,
          3234,
          201,
          10769,
          1642,
          7243,
          8847,
          2428,
          589,
          2032,
          1042,
          1882,
          1289,
          8579,
          8080,
          4257,
          4979,
          4280,
          13252,
          7152,
          3677,
          1936,
          3373,
          584,
          1433,
          1825,
          3328,
          1371,
          9250,
          55,
          5291,
          1366,
          6570,
          7704,
          3651,
          540,
          2024,
          7603,
          12653,
          6721,
          3195,
          735,
          717,
          8675,
          5479,
          1208,
          7845,
          7330,
          7075,
          4888,
          6036,
          8533,
          918,
          6448,
          521,
          8002,
          7639,
          11577,
          6250,
          295,
          1461,
          3485,
          1012,
          7097,
          2154,
          2280,
          685,
          891,
          780,
          4737,
          3748,
          1895,
          1012,
          6602,
          6551,
          10765,
          1475,
          367,
          899,
          7503,
          1115,
          2527,
          659,
          3243,
          5921,
          2204,
          577,
          2746,
          10678,
          1780,
          4984,
          2703,
          6380,
          820,
          3838,
          475,
          1801,
          659,
          3576,
          7775,
          6154,
          2428,
          346,
          5279,
          3795,
          1993,
          1860,
          7961,
          489,
          5008,
          1931,
          4885,
          1110,
          1372,
          1115,
          9679,
          9763,
          1222,
          8053,
          258,
          1032,
          5007,
          8323,
          3045,
          1703,
          1610,
          3749,
          2317,
          6200,
          2884,
          7108,
          2247,
          594,
          2160,
          3354,
          3086,
          11103,
          2013,
          1897,
          1304,
          3199,
          4560,
          879,
          6243,
          13316,
          5302,
          12939,
          12867,
          2374,
          1020,
          2335,
          925,
          1795,
          14982,
          1375,
          3088,
          2713,
          3696,
          1897,
          713,
          944,
          3587,
          1610,
          899,
          1486,
          1786,
          3216,
          6817,
          1511,
          4025,
          5763,
          5758,
          1172,
          2602,
          6939,
          7184,
          2380,
          1099,
          1106,
          6264,
          7393,
          727,
          134,
          1275,
          5878,
          2872,
          607,
          1601,
          997,
          873,
          6128,
          2217,
          894,
          1196,
          337,
          6257,
          2256,
          1450,
          8630,
          3294,
          5164,
          944,
          7435,
          1364,
          922,
          3620,
          1916,
          848,
          1530,
          1181,
          2761,
          4180,
          865,
          1316,
          11991,
          1666,
          1032,
          577,
          906,
          4753,
          11006,
          4613,
          1046,
          12844,
          3880,
          2096,
          3605,
          1990,
          6046,
          10940,
          5499,
          8494,
          3783,
          5266,
          4847,
          1377,
          3686,
          2884,
          9347,
          5970,
          1750,
          4230,
          1162,
          3218,
          3922,
          1981,
          1698
         ]
        }
       ],
       "layout": {
        "height": 800,
        "margin": {
         "l": 0,
         "r": 0
        },
        "scene": {
         "xaxis": {
          "title": {
           "text": "Detergents_Paper -->"
          }
         },
         "yaxis": {
          "title": {
           "text": "Frozen -->"
          }
         },
         "zaxis": {
          "title": {
           "text": "Milk -->"
          }
         }
        },
        "template": {
         "data": {
          "bar": [
           {
            "error_x": {
             "color": "#2a3f5f"
            },
            "error_y": {
             "color": "#2a3f5f"
            },
            "marker": {
             "line": {
              "color": "#E5ECF6",
              "width": 0.5
             },
             "pattern": {
              "fillmode": "overlay",
              "size": 10,
              "solidity": 0.2
             }
            },
            "type": "bar"
           }
          ],
          "barpolar": [
           {
            "marker": {
             "line": {
              "color": "#E5ECF6",
              "width": 0.5
             },
             "pattern": {
              "fillmode": "overlay",
              "size": 10,
              "solidity": 0.2
             }
            },
            "type": "barpolar"
           }
          ],
          "carpet": [
           {
            "aaxis": {
             "endlinecolor": "#2a3f5f",
             "gridcolor": "white",
             "linecolor": "white",
             "minorgridcolor": "white",
             "startlinecolor": "#2a3f5f"
            },
            "baxis": {
             "endlinecolor": "#2a3f5f",
             "gridcolor": "white",
             "linecolor": "white",
             "minorgridcolor": "white",
             "startlinecolor": "#2a3f5f"
            },
            "type": "carpet"
           }
          ],
          "choropleth": [
           {
            "colorbar": {
             "outlinewidth": 0,
             "ticks": ""
            },
            "type": "choropleth"
           }
          ],
          "contour": [
           {
            "colorbar": {
             "outlinewidth": 0,
             "ticks": ""
            },
            "colorscale": [
             [
              0,
              "#0d0887"
             ],
             [
              0.1111111111111111,
              "#46039f"
             ],
             [
              0.2222222222222222,
              "#7201a8"
             ],
             [
              0.3333333333333333,
              "#9c179e"
             ],
             [
              0.4444444444444444,
              "#bd3786"
             ],
             [
              0.5555555555555556,
              "#d8576b"
             ],
             [
              0.6666666666666666,
              "#ed7953"
             ],
             [
              0.7777777777777778,
              "#fb9f3a"
             ],
             [
              0.8888888888888888,
              "#fdca26"
             ],
             [
              1,
              "#f0f921"
             ]
            ],
            "type": "contour"
           }
          ],
          "contourcarpet": [
           {
            "colorbar": {
             "outlinewidth": 0,
             "ticks": ""
            },
            "type": "contourcarpet"
           }
          ],
          "heatmap": [
           {
            "colorbar": {
             "outlinewidth": 0,
             "ticks": ""
            },
            "colorscale": [
             [
              0,
              "#0d0887"
             ],
             [
              0.1111111111111111,
              "#46039f"
             ],
             [
              0.2222222222222222,
              "#7201a8"
             ],
             [
              0.3333333333333333,
              "#9c179e"
             ],
             [
              0.4444444444444444,
              "#bd3786"
             ],
             [
              0.5555555555555556,
              "#d8576b"
             ],
             [
              0.6666666666666666,
              "#ed7953"
             ],
             [
              0.7777777777777778,
              "#fb9f3a"
             ],
             [
              0.8888888888888888,
              "#fdca26"
             ],
             [
              1,
              "#f0f921"
             ]
            ],
            "type": "heatmap"
           }
          ],
          "heatmapgl": [
           {
            "colorbar": {
             "outlinewidth": 0,
             "ticks": ""
            },
            "colorscale": [
             [
              0,
              "#0d0887"
             ],
             [
              0.1111111111111111,
              "#46039f"
             ],
             [
              0.2222222222222222,
              "#7201a8"
             ],
             [
              0.3333333333333333,
              "#9c179e"
             ],
             [
              0.4444444444444444,
              "#bd3786"
             ],
             [
              0.5555555555555556,
              "#d8576b"
             ],
             [
              0.6666666666666666,
              "#ed7953"
             ],
             [
              0.7777777777777778,
              "#fb9f3a"
             ],
             [
              0.8888888888888888,
              "#fdca26"
             ],
             [
              1,
              "#f0f921"
             ]
            ],
            "type": "heatmapgl"
           }
          ],
          "histogram": [
           {
            "marker": {
             "pattern": {
              "fillmode": "overlay",
              "size": 10,
              "solidity": 0.2
             }
            },
            "type": "histogram"
           }
          ],
          "histogram2d": [
           {
            "colorbar": {
             "outlinewidth": 0,
             "ticks": ""
            },
            "colorscale": [
             [
              0,
              "#0d0887"
             ],
             [
              0.1111111111111111,
              "#46039f"
             ],
             [
              0.2222222222222222,
              "#7201a8"
             ],
             [
              0.3333333333333333,
              "#9c179e"
             ],
             [
              0.4444444444444444,
              "#bd3786"
             ],
             [
              0.5555555555555556,
              "#d8576b"
             ],
             [
              0.6666666666666666,
              "#ed7953"
             ],
             [
              0.7777777777777778,
              "#fb9f3a"
             ],
             [
              0.8888888888888888,
              "#fdca26"
             ],
             [
              1,
              "#f0f921"
             ]
            ],
            "type": "histogram2d"
           }
          ],
          "histogram2dcontour": [
           {
            "colorbar": {
             "outlinewidth": 0,
             "ticks": ""
            },
            "colorscale": [
             [
              0,
              "#0d0887"
             ],
             [
              0.1111111111111111,
              "#46039f"
             ],
             [
              0.2222222222222222,
              "#7201a8"
             ],
             [
              0.3333333333333333,
              "#9c179e"
             ],
             [
              0.4444444444444444,
              "#bd3786"
             ],
             [
              0.5555555555555556,
              "#d8576b"
             ],
             [
              0.6666666666666666,
              "#ed7953"
             ],
             [
              0.7777777777777778,
              "#fb9f3a"
             ],
             [
              0.8888888888888888,
              "#fdca26"
             ],
             [
              1,
              "#f0f921"
             ]
            ],
            "type": "histogram2dcontour"
           }
          ],
          "mesh3d": [
           {
            "colorbar": {
             "outlinewidth": 0,
             "ticks": ""
            },
            "type": "mesh3d"
           }
          ],
          "parcoords": [
           {
            "line": {
             "colorbar": {
              "outlinewidth": 0,
              "ticks": ""
             }
            },
            "type": "parcoords"
           }
          ],
          "pie": [
           {
            "automargin": true,
            "type": "pie"
           }
          ],
          "scatter": [
           {
            "fillpattern": {
             "fillmode": "overlay",
             "size": 10,
             "solidity": 0.2
            },
            "type": "scatter"
           }
          ],
          "scatter3d": [
           {
            "line": {
             "colorbar": {
              "outlinewidth": 0,
              "ticks": ""
             }
            },
            "marker": {
             "colorbar": {
              "outlinewidth": 0,
              "ticks": ""
             }
            },
            "type": "scatter3d"
           }
          ],
          "scattercarpet": [
           {
            "marker": {
             "colorbar": {
              "outlinewidth": 0,
              "ticks": ""
             }
            },
            "type": "scattercarpet"
           }
          ],
          "scattergeo": [
           {
            "marker": {
             "colorbar": {
              "outlinewidth": 0,
              "ticks": ""
             }
            },
            "type": "scattergeo"
           }
          ],
          "scattergl": [
           {
            "marker": {
             "colorbar": {
              "outlinewidth": 0,
              "ticks": ""
             }
            },
            "type": "scattergl"
           }
          ],
          "scattermapbox": [
           {
            "marker": {
             "colorbar": {
              "outlinewidth": 0,
              "ticks": ""
             }
            },
            "type": "scattermapbox"
           }
          ],
          "scatterpolar": [
           {
            "marker": {
             "colorbar": {
              "outlinewidth": 0,
              "ticks": ""
             }
            },
            "type": "scatterpolar"
           }
          ],
          "scatterpolargl": [
           {
            "marker": {
             "colorbar": {
              "outlinewidth": 0,
              "ticks": ""
             }
            },
            "type": "scatterpolargl"
           }
          ],
          "scatterternary": [
           {
            "marker": {
             "colorbar": {
              "outlinewidth": 0,
              "ticks": ""
             }
            },
            "type": "scatterternary"
           }
          ],
          "surface": [
           {
            "colorbar": {
             "outlinewidth": 0,
             "ticks": ""
            },
            "colorscale": [
             [
              0,
              "#0d0887"
             ],
             [
              0.1111111111111111,
              "#46039f"
             ],
             [
              0.2222222222222222,
              "#7201a8"
             ],
             [
              0.3333333333333333,
              "#9c179e"
             ],
             [
              0.4444444444444444,
              "#bd3786"
             ],
             [
              0.5555555555555556,
              "#d8576b"
             ],
             [
              0.6666666666666666,
              "#ed7953"
             ],
             [
              0.7777777777777778,
              "#fb9f3a"
             ],
             [
              0.8888888888888888,
              "#fdca26"
             ],
             [
              1,
              "#f0f921"
             ]
            ],
            "type": "surface"
           }
          ],
          "table": [
           {
            "cells": {
             "fill": {
              "color": "#EBF0F8"
             },
             "line": {
              "color": "white"
             }
            },
            "header": {
             "fill": {
              "color": "#C8D4E3"
             },
             "line": {
              "color": "white"
             }
            },
            "type": "table"
           }
          ]
         },
         "layout": {
          "annotationdefaults": {
           "arrowcolor": "#2a3f5f",
           "arrowhead": 0,
           "arrowwidth": 1
          },
          "autotypenumbers": "strict",
          "coloraxis": {
           "colorbar": {
            "outlinewidth": 0,
            "ticks": ""
           }
          },
          "colorscale": {
           "diverging": [
            [
             0,
             "#8e0152"
            ],
            [
             0.1,
             "#c51b7d"
            ],
            [
             0.2,
             "#de77ae"
            ],
            [
             0.3,
             "#f1b6da"
            ],
            [
             0.4,
             "#fde0ef"
            ],
            [
             0.5,
             "#f7f7f7"
            ],
            [
             0.6,
             "#e6f5d0"
            ],
            [
             0.7,
             "#b8e186"
            ],
            [
             0.8,
             "#7fbc41"
            ],
            [
             0.9,
             "#4d9221"
            ],
            [
             1,
             "#276419"
            ]
           ],
           "sequential": [
            [
             0,
             "#0d0887"
            ],
            [
             0.1111111111111111,
             "#46039f"
            ],
            [
             0.2222222222222222,
             "#7201a8"
            ],
            [
             0.3333333333333333,
             "#9c179e"
            ],
            [
             0.4444444444444444,
             "#bd3786"
            ],
            [
             0.5555555555555556,
             "#d8576b"
            ],
            [
             0.6666666666666666,
             "#ed7953"
            ],
            [
             0.7777777777777778,
             "#fb9f3a"
            ],
            [
             0.8888888888888888,
             "#fdca26"
            ],
            [
             1,
             "#f0f921"
            ]
           ],
           "sequentialminus": [
            [
             0,
             "#0d0887"
            ],
            [
             0.1111111111111111,
             "#46039f"
            ],
            [
             0.2222222222222222,
             "#7201a8"
            ],
            [
             0.3333333333333333,
             "#9c179e"
            ],
            [
             0.4444444444444444,
             "#bd3786"
            ],
            [
             0.5555555555555556,
             "#d8576b"
            ],
            [
             0.6666666666666666,
             "#ed7953"
            ],
            [
             0.7777777777777778,
             "#fb9f3a"
            ],
            [
             0.8888888888888888,
             "#fdca26"
            ],
            [
             1,
             "#f0f921"
            ]
           ]
          },
          "colorway": [
           "#636efa",
           "#EF553B",
           "#00cc96",
           "#ab63fa",
           "#FFA15A",
           "#19d3f3",
           "#FF6692",
           "#B6E880",
           "#FF97FF",
           "#FECB52"
          ],
          "font": {
           "color": "#2a3f5f"
          },
          "geo": {
           "bgcolor": "white",
           "lakecolor": "white",
           "landcolor": "#E5ECF6",
           "showlakes": true,
           "showland": true,
           "subunitcolor": "white"
          },
          "hoverlabel": {
           "align": "left"
          },
          "hovermode": "closest",
          "mapbox": {
           "style": "light"
          },
          "paper_bgcolor": "white",
          "plot_bgcolor": "#E5ECF6",
          "polar": {
           "angularaxis": {
            "gridcolor": "white",
            "linecolor": "white",
            "ticks": ""
           },
           "bgcolor": "#E5ECF6",
           "radialaxis": {
            "gridcolor": "white",
            "linecolor": "white",
            "ticks": ""
           }
          },
          "scene": {
           "xaxis": {
            "backgroundcolor": "#E5ECF6",
            "gridcolor": "white",
            "gridwidth": 2,
            "linecolor": "white",
            "showbackground": true,
            "ticks": "",
            "zerolinecolor": "white"
           },
           "yaxis": {
            "backgroundcolor": "#E5ECF6",
            "gridcolor": "white",
            "gridwidth": 2,
            "linecolor": "white",
            "showbackground": true,
            "ticks": "",
            "zerolinecolor": "white"
           },
           "zaxis": {
            "backgroundcolor": "#E5ECF6",
            "gridcolor": "white",
            "gridwidth": 2,
            "linecolor": "white",
            "showbackground": true,
            "ticks": "",
            "zerolinecolor": "white"
           }
          },
          "shapedefaults": {
           "line": {
            "color": "#2a3f5f"
           }
          },
          "ternary": {
           "aaxis": {
            "gridcolor": "white",
            "linecolor": "white",
            "ticks": ""
           },
           "baxis": {
            "gridcolor": "white",
            "linecolor": "white",
            "ticks": ""
           },
           "bgcolor": "#E5ECF6",
           "caxis": {
            "gridcolor": "white",
            "linecolor": "white",
            "ticks": ""
           }
          },
          "title": {
           "x": 0.05
          },
          "xaxis": {
           "automargin": true,
           "gridcolor": "white",
           "linecolor": "white",
           "ticks": "",
           "title": {
            "standoff": 15
           },
           "zerolinecolor": "white",
           "zerolinewidth": 2
          },
          "yaxis": {
           "automargin": true,
           "gridcolor": "white",
           "linecolor": "white",
           "ticks": "",
           "title": {
            "standoff": 15
           },
           "zerolinecolor": "white",
           "zerolinewidth": 2
          }
         }
        },
        "width": 800
       }
      }
     },
     "metadata": {},
     "output_type": "display_data"
    }
   ],
   "source": [
    "# Reduced Model 3D graph\n",
    "import plotly.graph_objs as go\n",
    "## K-means using k = 4\n",
    "kmeans = KMeans(n_clusters=4)\n",
    "kmeans.fit(scaled_w4no)\n",
    "y_kmeans = kmeans.predict(scaled_w4no)\n",
    "\n",
    "## 3D plot \n",
    "Scene = dict(xaxis = dict(title  = 'Detergents_Paper -->'),yaxis = dict(title  = 'Frozen -->'),zaxis = dict(title  = 'Milk -->'))\n",
    "\n",
    "labels = kmeans.labels_\n",
    "# Create the scatter plot\n",
    "trace = go.Scatter3d(\n",
    "    x=whole4_no_outliers['Detergents_Paper'],\n",
    "    y=whole4_no_outliers['Frozen'],\n",
    "    z=whole4_no_outliers['Milk'],\n",
    "    mode='markers',\n",
    "    marker=dict(color=labels, size=10, line=dict(color='black', width=10))\n",
    ")\n",
    "# Set the layout and create the plot\n",
    "layout = go.Layout(margin=dict(l=0,r=0),scene = Scene,height = 800,width = 800)\n",
    "data = [trace]\n",
    "fig = go.Figure(data = data, layout = layout)\n",
    "fig.show()"
   ]
  },
  {
   "cell_type": "code",
   "execution_count": null,
   "id": "efa65d77",
   "metadata": {},
   "outputs": [],
   "source": []
  },
  {
   "attachments": {},
   "cell_type": "markdown",
   "id": "44f48cda",
   "metadata": {},
   "source": [
    "# Part III - Hierarchical Clustering "
   ]
  },
  {
   "attachments": {},
   "cell_type": "markdown",
   "id": "18ba2210",
   "metadata": {},
   "source": [
    "Hierarchical clustering is a popular unsupervised machine learning algorithm that is used to identify patterns and group similar data points together in a hierarchy. The algorithm works by iteratively merging or splitting clusters based on a similarity measure until a dendrogram is formed.\n",
    "\n",
    "To perform hierarchical clustering analysis, you will need to pre-process the dataset, determine the optimal number of clusters using techniques such as dendrogram."
   ]
  },
  {
   "cell_type": "code",
   "execution_count": 35,
   "id": "ccf6429e",
   "metadata": {},
   "outputs": [],
   "source": [
    "# Full Model\n",
    "# Agglomerative clustering\n",
    "import pandas as pd\n",
    "import numpy as np\n",
    "from matplotlib import pyplot as plt\n",
    "from sklearn.cluster import AgglomerativeClustering\n",
    "# Cluster hierarchy\n",
    "import scipy.cluster.hierarchy as sch\n"
   ]
  },
  {
   "cell_type": "code",
   "execution_count": 70,
   "id": "119d5501",
   "metadata": {},
   "outputs": [
    {
     "data": {
      "image/png": "[encoded data removed]",
      "text/plain": [
       "<Figure size 800x550 with 1 Axes>"
      ]
     },
     "metadata": {},
     "output_type": "display_data"
    }
   ],
   "source": [
    "# Dendrogram to choose number of clusters for Full Model\n",
    "# Choose two variables for graphing purposes: Fresh and Detergents_Paper\n",
    "# X = scaled_wno.iloc[:, [3, 7]].values\n",
    "\n",
    "dendrogram = sch.dendrogram(sch.linkage(scaled_wno, method='ward'))"
   ]
  },
  {
   "attachments": {},
   "cell_type": "markdown",
   "id": "553a8af7",
   "metadata": {},
   "source": [
    "The greatest vertical distance between two splits in the dendrogram is along the blue lines at the top of the graph. There are two vertical lines between approximately 42 and 20 along the y-axis, so two clusters is optimal here. "
   ]
  },
  {
   "cell_type": "code",
   "execution_count": 71,
   "id": "129e976e",
   "metadata": {},
   "outputs": [],
   "source": [
    "# Full Model\n",
    "\n",
    "model = AgglomerativeClustering(n_clusters=2, metric='euclidean', linkage='ward')\n",
    "model.fit(scaled_wno)\n",
    "labels = model.labels_"
   ]
  },
  {
   "cell_type": "code",
   "execution_count": 73,
   "id": "64961d5e",
   "metadata": {},
   "outputs": [
    {
     "data": {
      "image/png": "[encoded data removed]",
      "text/plain": [
       "<Figure size 800x550 with 2 Axes>"
      ]
     },
     "metadata": {},
     "output_type": "display_data"
    }
   ],
   "source": [
    "# Create a scatter plot of the Full Model's data points\n",
    "plt.scatter(whole_no_outliers['Fresh'], whole_no_outliers['Detergents_Paper'], c=labels, cmap='viridis')\n",
    "plt.xlabel('Fresh')\n",
    "plt.ylabel('Detergents_Paper')\n",
    "plt.title('Agglomerative Clustering')\n",
    "plt.colorbar()\n",
    "\n",
    "plt.show()"
   ]
  },
  {
   "cell_type": "code",
   "execution_count": 76,
   "id": "2af02a0a",
   "metadata": {},
   "outputs": [
    {
     "data": {
      "image/png": "[encoded data removed]",
      "text/plain": [
       "<Figure size 800x550 with 1 Axes>"
      ]
     },
     "metadata": {},
     "output_type": "display_data"
    }
   ],
   "source": [
    "# Reduced Model\n",
    "# Dendrogram to choose number of clusters\n",
    "# Choose two variables for graphing purposes: Fresh and Detergents_Paper\n",
    "# X = scaled_w4no.iloc[:, [1, 4]].values\n",
    "\n",
    "dendrogram = sch.dendrogram(sch.linkage(scaled_w4no, method='ward'))"
   ]
  },
  {
   "attachments": {},
   "cell_type": "markdown",
   "id": "0bde58f6",
   "metadata": {},
   "source": [
    "The greatest vertical distance is at the blue lines first split, suggesting 2 clusters for the Reduced Model."
   ]
  },
  {
   "cell_type": "code",
   "execution_count": 74,
   "id": "d90af4d3",
   "metadata": {},
   "outputs": [],
   "source": [
    "# Reduced Model hierarchical agglomerative\n",
    "model = AgglomerativeClustering(n_clusters=2, metric='euclidean', linkage='ward')\n",
    "model.fit(scaled_w4no)\n",
    "labels = model.labels_"
   ]
  },
  {
   "cell_type": "code",
   "execution_count": 75,
   "id": "b4b2f245",
   "metadata": {},
   "outputs": [
    {
     "data": {
      "image/png": "[encoded data removed]",
      "text/plain": [
       "<Figure size 800x550 with 2 Axes>"
      ]
     },
     "metadata": {},
     "output_type": "display_data"
    }
   ],
   "source": [
    "# Create a scatter plot of the Reduced Model data points\n",
    "plt.scatter(whole4_no_outliers['Fresh'], whole4_no_outliers['Detergents_Paper'], c=labels, cmap='viridis')\n",
    "plt.xlabel('Fresh')\n",
    "plt.ylabel('Detergents_Paper')\n",
    "plt.title('Agglomerative Clustering')\n",
    "plt.colorbar()\n",
    "\n",
    "plt.show()"
   ]
  },
  {
   "attachments": {},
   "cell_type": "markdown",
   "id": "dd516495",
   "metadata": {},
   "source": [
    "# Part IV - PCA"
   ]
  },
  {
   "attachments": {},
   "cell_type": "markdown",
   "id": "0a7cf638",
   "metadata": {},
   "source": [
    "In this section you are going to perform principal component analysis (PCA) to draw conclusions about the underlying structure of the wholesale customer data. Since using PCA on a dataset calculates the dimensions which best maximize variance, we will find which compound combinations of features best describe customers."
   ]
  },
  {
   "cell_type": "code",
   "execution_count": 77,
   "id": "ecfd148a",
   "metadata": {},
   "outputs": [],
   "source": [
    "# PCA Full Model with 8 features\n",
    "from sklearn.decomposition import PCA\n",
    "# Initialize the algorithm\n",
    "pca = PCA(n_components=None)\n",
    "# Fit the model to data \n",
    "scaledwno_pca = pca.fit(scaled_wno)"
   ]
  },
  {
   "cell_type": "code",
   "execution_count": 97,
   "id": "cf3fdd57",
   "metadata": {},
   "outputs": [
    {
     "data": {
      "text/plain": [
       "array([0.42621787, 0.16242677, 0.12699418, 0.1009474 , 0.08783354,\n",
       "       0.04689437, 0.03323082, 0.01545504])"
      ]
     },
     "execution_count": 97,
     "metadata": {},
     "output_type": "execute_result"
    }
   ],
   "source": [
    "# PCA Full Model\n",
    "import pandas as pd\n",
    "import numpy as np\n",
    "import matplotlib.pyplot as plt\n",
    "from sklearn.cluster import KMeans\n",
    "from sklearn.preprocessing import StandardScaler\n",
    "from sklearn.decomposition import PCA\n",
    "\n",
    "# standarized whole\n",
    "# scaled_whole = StandardScaler().fit_transform(whole)\n",
    "\n",
    "# Import PCA Algorithm\n",
    "from sklearn.decomposition import PCA\n",
    "\n",
    "# Initialize the algorithm and set the number of PC's\n",
    "pca = PCA(n_components=None)\n",
    "\n",
    "# Fit the model to data \n",
    "scaledwno_pca = pca.fit(scaled_wno)\n",
    "# Get list of PC's\n",
    "pca.components_\n",
    "# Transform the model to data \n",
    "wno_trans = pca.transform(scaled_wno)\n",
    "# Get the eigenvalues\n",
    "pca.explained_variance_ratio_"
   ]
  },
  {
   "cell_type": "code",
   "execution_count": 80,
   "id": "c3d85850",
   "metadata": {},
   "outputs": [
    {
     "name": "stdout",
     "output_type": "stream",
     "text": [
      "Principal Component 1:\n",
      "Feature 1: 0.4697049954282492\n",
      "Feature 2: 0.07850452247477516\n",
      "Feature 3: -0.10562300413132221\n",
      "Feature 4: 0.4543593684662286\n",
      "Feature 5: 0.496432988353082\n",
      "Feature 6: -0.15859418985892323\n",
      "Feature 7: 0.49821302096278636\n",
      "Feature 8: 0.1892129997303439\n",
      "Principal Component 2:\n",
      "Feature 1: 0.005991389859686347\n",
      "Feature 2: -0.05894684022286248\n",
      "Feature 3: 0.645867611125366\n",
      "Feature 4: 0.11692877749103346\n",
      "Feature 5: 0.03835989694997071\n",
      "Feature 6: 0.47540750193959996\n",
      "Feature 7: -0.07211298132670185\n",
      "Feature 8: 0.5770511298824974\n",
      "Principal Component 3:\n",
      "Feature 1: -0.001956240683562567\n",
      "Feature 2: -0.9223581163647697\n",
      "Feature 3: -0.20449630825907378\n",
      "Feature 4: 0.046984143393428615\n",
      "Feature 5: 0.0811854219682484\n",
      "Feature 6: 0.2792846381736214\n",
      "Feature 7: 0.10586311612239462\n",
      "Feature 8: -0.09709504241381328\n",
      "Principal Component 4:\n",
      "Feature 1: 0.074329862379342\n",
      "Feature 2: 0.36451184159983363\n",
      "Feature 3: -0.3164285992546517\n",
      "Feature 4: 0.012289188285612426\n",
      "Feature 5: 0.03318094879620139\n",
      "Feature 6: 0.8185939400055988\n",
      "Feature 7: 0.1253212401466154\n",
      "Feature 8: -0.27281070196822216\n"
     ]
    }
   ],
   "source": [
    "# Feature loadings from Full Model PCA\n",
    "# Get the loadings or coefficients of each principal component\n",
    "loadings = pca.components_\n",
    "# Loop through each principal component and analyze the loadings\n",
    "for i, component in enumerate(loadings):\n",
    "    print(f\"Principal Component {i+1}:\")\n",
    "    for j, feature in enumerate(component):\n",
    "        print(f\"Feature {j+1}: {feature}\")"
   ]
  },
  {
   "cell_type": "code",
   "execution_count": 79,
   "id": "ce8dfb39",
   "metadata": {},
   "outputs": [
    {
     "data": {
      "image/png": "[encoded data removed]",
      "text/plain": [
       "<Figure size 1000x600 with 1 Axes>"
      ]
     },
     "metadata": {},
     "output_type": "display_data"
    }
   ],
   "source": [
    "# PCA Full Model\n",
    "plt.figure(figsize=(10,6))\n",
    "plt.scatter(x=[i+1 for i in range(len(scaledwno_pca.explained_variance_ratio_))],\n",
    "            y=scaledwno_pca.explained_variance_ratio_,\n",
    "           s=200, alpha=0.75,c='orange',edgecolor='k')\n",
    "plt.grid(True)\n",
    "plt.title(\"Explained variance ratio of the \\nfitted principal component vector\\n\",fontsize=25)\n",
    "plt.xlabel(\"Principal components\",fontsize=15)\n",
    "plt.xticks([i+1 for i in range(len(scaledwno_pca.explained_variance_ratio_))],fontsize=15)\n",
    "plt.yticks(fontsize=15)\n",
    "plt.ylabel(\"Explained variance ratio\",fontsize=15)\n",
    "plt.show()"
   ]
  },
  {
   "attachments": {},
   "cell_type": "markdown",
   "id": "193765ae",
   "metadata": {},
   "source": [
    "# Part V - Conclusion"
   ]
  },
  {
   "attachments": {},
   "cell_type": "markdown",
   "id": "1fc26f00",
   "metadata": {},
   "source": [
    "From the model you developed and the exploratory data analysis (EDA) conducted, generate four bullet points as your findings."
   ]
  },
  {
   "attachments": {},
   "cell_type": "markdown",
   "id": "acc93d34",
   "metadata": {},
   "source": [
    "1) The PCA revealed that PC1 accounted for 42.6% of the variance and PC2 was 16.2% for a combined 58.8% of the variance accounted for with just the first two components.\n",
    "\n",
    "2) The correlation matrix showed that Region had low absolute values with the seven other features. It did not hold any great explanatory value. Channel, in comparison, held some high positive values, indicating the dominance of Retail channels in Milk and Detergents_Papers purchases. The negative correlation values for Channel indicated that Hotels/Cafes dominate in Fresh and Frozen purchases.\n",
    "\n",
    "3) The similarities in graphs using all eight original features or a reduced model using only four suggest that the reduced model did not lose much explanatory power and could still acount for much of the variance. This is possibly due to certain features like Grocery having high correlations (>=0.73) with two other variables, so eliminating it did not change the model much.\n",
    "\n",
    "4) The analyses here still had overlap in the clusters, based on the 3D graph from the KMeans and the 2D graph from the agglomerative clustering. It could be improved. However, the large influence of Channel on annual spending came through in the strong split into two clusters in hierarchical dendrogram. The two channels, hotels and cafes versus retail outlets, simply have very different spending patterns. Market segmentation could prove a winning sales strategy."
   ]
  }
 ],
 "metadata": {
  "kernelspec": {
   "display_name": "Python 3 (ipykernel)",
   "language": "python",
   "name": "python3"
  },
  "language_info": {
   "codemirror_mode": {
    "name": "ipython",
    "version": 3
   },
   "file_extension": ".py",
   "mimetype": "text/x-python",
   "name": "python",
   "nbconvert_exporter": "python",
   "pygments_lexer": "ipython3",
   "version": "3.9.16"
  }
 },
 "nbformat": 4,
 "nbformat_minor": 5
}
